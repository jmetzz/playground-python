{
 "cells": [
  {
   "cell_type": "code",
   "execution_count": 16,
   "metadata": {},
   "outputs": [
    {
     "name": "stdout",
     "output_type": "stream",
     "text": [
      "The autoreload extension is already loaded. To reload it, use:\n",
      "  %reload_ext autoreload\n"
     ]
    }
   ],
   "source": [
    "%load_ext autoreload\n",
    "%autoreload 2\n",
    "\n",
    "import numpy as np\n",
    "import pandas as pd\n",
    "\n",
    "from io import StringIO\n"
   ]
  },
  {
   "cell_type": "markdown",
   "metadata": {},
   "source": [
    "# loc_price_competitor_increasing\n",
    "\n",
    "### Logic breakdown\n"
   ]
  },
  {
   "cell_type": "code",
   "execution_count": 17,
   "metadata": {},
   "outputs": [],
   "source": [
    "def loc_price_competitor_increasing(data: pd.DataFrame) -> pd.Series:\n",
    "    return pd.Series(\n",
    "        {\n",
    "            \"loc_price_competitor_historic_increasing\": min(\n",
    "                [data.iloc[-i][\"loc_price_competitor\"] for i in range(0, data.shape[0] + 1)]\n",
    "            )\n",
    "        }\n",
    "    )\n"
   ]
  },
  {
   "cell_type": "code",
   "execution_count": 18,
   "metadata": {},
   "outputs": [
    {
     "data": {
      "text/html": [
       "<div>\n",
       "<style scoped>\n",
       "    .dataframe tbody tr th:only-of-type {\n",
       "        vertical-align: middle;\n",
       "    }\n",
       "\n",
       "    .dataframe tbody tr th {\n",
       "        vertical-align: top;\n",
       "    }\n",
       "\n",
       "    .dataframe thead th {\n",
       "        text-align: right;\n",
       "    }\n",
       "</style>\n",
       "<table border=\"1\" class=\"dataframe\">\n",
       "  <thead>\n",
       "    <tr style=\"text-align: right;\">\n",
       "      <th></th>\n",
       "      <th>item_id</th>\n",
       "      <th>competitor_item_id</th>\n",
       "      <th>loc_price_own</th>\n",
       "      <th>loc_price_competitor</th>\n",
       "    </tr>\n",
       "  </thead>\n",
       "  <tbody>\n",
       "    <tr>\n",
       "      <th>0</th>\n",
       "      <td>1</td>\n",
       "      <td>2</td>\n",
       "      <td>0.90</td>\n",
       "      <td>NaN</td>\n",
       "    </tr>\n",
       "    <tr>\n",
       "      <th>1</th>\n",
       "      <td>1</td>\n",
       "      <td>2</td>\n",
       "      <td>0.92</td>\n",
       "      <td>NaN</td>\n",
       "    </tr>\n",
       "    <tr>\n",
       "      <th>2</th>\n",
       "      <td>1</td>\n",
       "      <td>2</td>\n",
       "      <td>0.93</td>\n",
       "      <td>NaN</td>\n",
       "    </tr>\n",
       "    <tr>\n",
       "      <th>3</th>\n",
       "      <td>1</td>\n",
       "      <td>2</td>\n",
       "      <td>0.96</td>\n",
       "      <td>NaN</td>\n",
       "    </tr>\n",
       "    <tr>\n",
       "      <th>4</th>\n",
       "      <td>1</td>\n",
       "      <td>2</td>\n",
       "      <td>0.97</td>\n",
       "      <td>NaN</td>\n",
       "    </tr>\n",
       "    <tr>\n",
       "      <th>5</th>\n",
       "      <td>1</td>\n",
       "      <td>2</td>\n",
       "      <td>1.00</td>\n",
       "      <td>NaN</td>\n",
       "    </tr>\n",
       "  </tbody>\n",
       "</table>\n",
       "</div>"
      ],
      "text/plain": [
       "   item_id  competitor_item_id  loc_price_own  loc_price_competitor\n",
       "0        1                   2           0.90                   NaN\n",
       "1        1                   2           0.92                   NaN\n",
       "2        1                   2           0.93                   NaN\n",
       "3        1                   2           0.96                   NaN\n",
       "4        1                   2           0.97                   NaN\n",
       "5        1                   2           1.00                   NaN"
      ]
     },
     "execution_count": 18,
     "metadata": {},
     "output_type": "execute_result"
    }
   ],
   "source": [
    "# dummy data\n",
    "input_str = \"\"\"item_id,competitor_item_id,loc_price_own,loc_price_competitor\n",
    "1,2,0.90\n",
    "1,2,0.92\n",
    "1,2,0.93\n",
    "1,2,0.96\n",
    "1,2,0.97\n",
    "1,2,1.00\n",
    "\"\"\"\n",
    "temp_df = pd.read_csv(StringIO(input_str))\n",
    "temp_df\n"
   ]
  },
  {
   "cell_type": "code",
   "execution_count": 19,
   "metadata": {},
   "outputs": [
    {
     "name": "stdout",
     "output_type": "stream",
     "text": [
      "779 µs ± 42.5 µs per loop (mean ± std. dev. of 5 runs, 5 loops each)\n"
     ]
    }
   ],
   "source": [
    "%%timeit -n 5 -r 5\n",
    "# within each groupby [\"item_id\", \"competitor_item_id\"], the code performs\n",
    "outcome = min([temp_df.iloc[-i][\"loc_price_competitor\"] for i in range(0, temp_df.shape[0] + 1)])"
   ]
  },
  {
   "cell_type": "code",
   "execution_count": 20,
   "metadata": {},
   "outputs": [
    {
     "name": "stdout",
     "output_type": "stream",
     "text": [
      "The slowest run took 4.02 times longer than the fastest. This could mean that an intermediate result is being cached.\n",
      "7.6 µs ± 5.7 µs per loop (mean ± std. dev. of 5 runs, 5 loops each)\n"
     ]
    }
   ],
   "source": [
    "%%timeit -n 5 -r 5\n",
    "min(temp_df[\"loc_price_competitor\"])"
   ]
  },
  {
   "cell_type": "code",
   "execution_count": 21,
   "metadata": {},
   "outputs": [
    {
     "name": "stdout",
     "output_type": "stream",
     "text": [
      "81.5 µs ± 16.7 µs per loop (mean ± std. dev. of 5 runs, 5 loops each)\n"
     ]
    }
   ],
   "source": [
    "%%timeit -n 5 -r 5\n",
    "temp_df[\"loc_price_competitor\"].min()"
   ]
  },
  {
   "cell_type": "code",
   "execution_count": 22,
   "metadata": {},
   "outputs": [
    {
     "data": {
      "text/plain": [
       "loc_price_competitor_historic_increasing   NaN\n",
       "dtype: float64"
      ]
     },
     "execution_count": 22,
     "metadata": {},
     "output_type": "execute_result"
    }
   ],
   "source": [
    "debug=True\n",
    "decr_price = loc_price_competitor_increasing(temp_df)\n",
    "decr_price"
   ]
  },
  {
   "cell_type": "markdown",
   "metadata": {},
   "source": [
    "# get_loc_price_gap\n",
    "\n",
    "### logic breakdown\n"
   ]
  },
  {
   "cell_type": "code",
   "execution_count": 23,
   "metadata": {},
   "outputs": [],
   "source": [
    "#original\n",
    "def get_loc_price_gap(data: pd.DataFrame) -> pd.Series:\n",
    "    df = data.iloc[0:4]\n",
    "    value = min(min(df[\"loc_price_own\"]), min(df[\"loc_price_competitor\"]))\n",
    "    return pd.Series(\n",
    "        {\n",
    "            \"loc_price_gap\": np.min(\n",
    "                [\n",
    "                    data.iloc[0][\"loc_price_own\"],\n",
    "                    data.iloc[0][\"loc_price_competitor\"],\n",
    "                    data.iloc[1][\"loc_price_own\"],\n",
    "                    data.iloc[1][\"loc_price_competitor\"],\n",
    "                    data.iloc[2][\"loc_price_own\"],\n",
    "                    data.iloc[2][\"loc_price_competitor\"],\n",
    "                    data.iloc[3][\"loc_price_own\"],\n",
    "                    data.iloc[3][\"loc_price_competitor\"],\n",
    "                ]\n",
    "            )\n",
    "        }\n",
    "    )\n"
   ]
  },
  {
   "cell_type": "code",
   "execution_count": 24,
   "metadata": {},
   "outputs": [],
   "source": [
    "# new \n",
    "def get_loc_price_gap_new(data: pd.DataFrame) -> pd.Series:\n",
    "    df = data.iloc[0:4]\n",
    "    value = min(min(df[\"loc_price_own\"]), min(df[\"loc_price_competitor\"]))\n",
    "    return  pd.Series(\n",
    "        {\n",
    "            \"loc_price_gap\": value\n",
    "        }\n",
    "    )\n",
    "    "
   ]
  },
  {
   "cell_type": "code",
   "execution_count": 25,
   "metadata": {},
   "outputs": [
    {
     "data": {
      "text/html": [
       "<div>\n",
       "<style scoped>\n",
       "    .dataframe tbody tr th:only-of-type {\n",
       "        vertical-align: middle;\n",
       "    }\n",
       "\n",
       "    .dataframe tbody tr th {\n",
       "        vertical-align: top;\n",
       "    }\n",
       "\n",
       "    .dataframe thead th {\n",
       "        text-align: right;\n",
       "    }\n",
       "</style>\n",
       "<table border=\"1\" class=\"dataframe\">\n",
       "  <thead>\n",
       "    <tr style=\"text-align: right;\">\n",
       "      <th></th>\n",
       "      <th>item_id</th>\n",
       "      <th>competitor_item_id</th>\n",
       "      <th>loc_price_own</th>\n",
       "      <th>loc_price_competitor</th>\n",
       "    </tr>\n",
       "  </thead>\n",
       "  <tbody>\n",
       "    <tr>\n",
       "      <th>0</th>\n",
       "      <td>1</td>\n",
       "      <td>2</td>\n",
       "      <td>0.90</td>\n",
       "      <td>0.75</td>\n",
       "    </tr>\n",
       "    <tr>\n",
       "      <th>1</th>\n",
       "      <td>1</td>\n",
       "      <td>2</td>\n",
       "      <td>0.92</td>\n",
       "      <td>0.90</td>\n",
       "    </tr>\n",
       "    <tr>\n",
       "      <th>2</th>\n",
       "      <td>1</td>\n",
       "      <td>2</td>\n",
       "      <td>0.93</td>\n",
       "      <td>0.91</td>\n",
       "    </tr>\n",
       "    <tr>\n",
       "      <th>3</th>\n",
       "      <td>1</td>\n",
       "      <td>2</td>\n",
       "      <td>0.96</td>\n",
       "      <td>0.65</td>\n",
       "    </tr>\n",
       "    <tr>\n",
       "      <th>4</th>\n",
       "      <td>1</td>\n",
       "      <td>2</td>\n",
       "      <td>0.97</td>\n",
       "      <td>0.98</td>\n",
       "    </tr>\n",
       "    <tr>\n",
       "      <th>5</th>\n",
       "      <td>1</td>\n",
       "      <td>2</td>\n",
       "      <td>1.00</td>\n",
       "      <td>1.00</td>\n",
       "    </tr>\n",
       "  </tbody>\n",
       "</table>\n",
       "</div>"
      ],
      "text/plain": [
       "   item_id  competitor_item_id  loc_price_own  loc_price_competitor\n",
       "0        1                   2           0.90                  0.75\n",
       "1        1                   2           0.92                  0.90\n",
       "2        1                   2           0.93                  0.91\n",
       "3        1                   2           0.96                  0.65\n",
       "4        1                   2           0.97                  0.98\n",
       "5        1                   2           1.00                  1.00"
      ]
     },
     "execution_count": 25,
     "metadata": {},
     "output_type": "execute_result"
    }
   ],
   "source": [
    "input_str = \"\"\"item_id,competitor_item_id,loc_price_own,loc_price_competitor\n",
    "1,2,0.90,0.75\n",
    "1,2,0.92,0.90\n",
    "1,2,0.93,0.91\n",
    "1,2,0.96,0.65\n",
    "1,2,0.97,0.98\n",
    "1,2,1.00,1.00\n",
    "\"\"\"\n",
    "temp_df = pd.read_csv(StringIO(input_str))\n",
    "temp_df\n"
   ]
  },
  {
   "cell_type": "code",
   "execution_count": 26,
   "metadata": {},
   "outputs": [
    {
     "data": {
      "text/plain": [
       "loc_price_gap    0.65\n",
       "dtype: float64"
      ]
     },
     "execution_count": 26,
     "metadata": {},
     "output_type": "execute_result"
    }
   ],
   "source": [
    "get_loc_price_gap(temp_df)"
   ]
  },
  {
   "cell_type": "code",
   "execution_count": 27,
   "metadata": {},
   "outputs": [
    {
     "data": {
      "text/plain": [
       "loc_price_gap    0.65\n",
       "dtype: float64"
      ]
     },
     "execution_count": 27,
     "metadata": {},
     "output_type": "execute_result"
    }
   ],
   "source": [
    "get_loc_price_gap_new(temp_df)"
   ]
  },
  {
   "cell_type": "code",
   "execution_count": 28,
   "metadata": {},
   "outputs": [
    {
     "name": "stdout",
     "output_type": "stream",
     "text": [
      "1.7 ms ± 83 µs per loop (mean ± std. dev. of 5 runs, 5 loops each)\n"
     ]
    }
   ],
   "source": [
    "%%timeit -n 5 -r 5\n",
    "get_loc_price_gap(temp_df)"
   ]
  },
  {
   "cell_type": "code",
   "execution_count": 29,
   "metadata": {},
   "outputs": [
    {
     "name": "stdout",
     "output_type": "stream",
     "text": [
      "400 µs ± 23.4 µs per loop (mean ± std. dev. of 5 runs, 5 loops each)\n"
     ]
    }
   ],
   "source": [
    "%%timeit -n 5 -r 5\n",
    "get_loc_price_gap_new(temp_df)"
   ]
  },
  {
   "cell_type": "markdown",
   "metadata": {},
   "source": [
    "# get_loc_slope\n",
    "\n",
    "### logic breakdown"
   ]
  },
  {
   "cell_type": "code",
   "execution_count": 30,
   "metadata": {},
   "outputs": [
    {
     "data": {
      "text/html": [
       "<div>\n",
       "<style scoped>\n",
       "    .dataframe tbody tr th:only-of-type {\n",
       "        vertical-align: middle;\n",
       "    }\n",
       "\n",
       "    .dataframe tbody tr th {\n",
       "        vertical-align: top;\n",
       "    }\n",
       "\n",
       "    .dataframe thead th {\n",
       "        text-align: right;\n",
       "    }\n",
       "</style>\n",
       "<table border=\"1\" class=\"dataframe\">\n",
       "  <thead>\n",
       "    <tr style=\"text-align: right;\">\n",
       "      <th></th>\n",
       "      <th>item_id</th>\n",
       "      <th>competitor_item_id</th>\n",
       "      <th>loc_price_own</th>\n",
       "      <th>loc_salesunits_own</th>\n",
       "    </tr>\n",
       "  </thead>\n",
       "  <tbody>\n",
       "    <tr>\n",
       "      <th>0</th>\n",
       "      <td>1</td>\n",
       "      <td>2</td>\n",
       "      <td>0.90</td>\n",
       "      <td>0.75</td>\n",
       "    </tr>\n",
       "    <tr>\n",
       "      <th>1</th>\n",
       "      <td>1</td>\n",
       "      <td>2</td>\n",
       "      <td>0.92</td>\n",
       "      <td>0.90</td>\n",
       "    </tr>\n",
       "    <tr>\n",
       "      <th>2</th>\n",
       "      <td>1</td>\n",
       "      <td>2</td>\n",
       "      <td>0.93</td>\n",
       "      <td>0.91</td>\n",
       "    </tr>\n",
       "    <tr>\n",
       "      <th>3</th>\n",
       "      <td>1</td>\n",
       "      <td>2</td>\n",
       "      <td>0.96</td>\n",
       "      <td>0.65</td>\n",
       "    </tr>\n",
       "    <tr>\n",
       "      <th>4</th>\n",
       "      <td>1</td>\n",
       "      <td>2</td>\n",
       "      <td>0.97</td>\n",
       "      <td>0.98</td>\n",
       "    </tr>\n",
       "    <tr>\n",
       "      <th>5</th>\n",
       "      <td>1</td>\n",
       "      <td>2</td>\n",
       "      <td>1.00</td>\n",
       "      <td>1.00</td>\n",
       "    </tr>\n",
       "  </tbody>\n",
       "</table>\n",
       "</div>"
      ],
      "text/plain": [
       "   item_id  competitor_item_id  loc_price_own  loc_salesunits_own\n",
       "0        1                   2           0.90                0.75\n",
       "1        1                   2           0.92                0.90\n",
       "2        1                   2           0.93                0.91\n",
       "3        1                   2           0.96                0.65\n",
       "4        1                   2           0.97                0.98\n",
       "5        1                   2           1.00                1.00"
      ]
     },
     "execution_count": 30,
     "metadata": {},
     "output_type": "execute_result"
    }
   ],
   "source": [
    "input_str = \"\"\"item_id,competitor_item_id,loc_price_own,loc_salesunits_own\n",
    "1,2,0.90,0.75\n",
    "1,2,0.92,0.90\n",
    "1,2,0.93,0.91\n",
    "1,2,0.96,0.65\n",
    "1,2,0.97,0.98\n",
    "1,2,1.00,1.00\n",
    "\"\"\"\n",
    "temp_df = pd.read_csv(StringIO(input_str))\n",
    "temp_df\n"
   ]
  },
  {
   "cell_type": "code",
   "execution_count": 31,
   "metadata": {},
   "outputs": [],
   "source": [
    "# original\n",
    "def get_loc_slope(data: pd.DataFrame, loc_sales_column: str) -> pd.Series:\n",
    "    num_periods = int(data.shape[0])\n",
    "    a = np.matrix([[1, x] for x in list(np.arange(num_periods))])\n",
    "    z = (np.matrix(a.getT() * a).getI() * a.getT())[1, :]\n",
    "    loc_weights = (np.array(abs(z) / abs(z).sum())).tolist()[0]\n",
    "\n",
    "    return pd.Series(\n",
    "        {\"loc_slope\": sum([loc_weights[i] * data.iloc[i][loc_sales_column] for i in np.arange(num_periods)])}\n",
    "    )\n"
   ]
  },
  {
   "cell_type": "code",
   "execution_count": 32,
   "metadata": {},
   "outputs": [
    {
     "data": {
      "text/plain": [
       "loc_slope    0.886111\n",
       "dtype: float64"
      ]
     },
     "execution_count": 32,
     "metadata": {},
     "output_type": "execute_result"
    }
   ],
   "source": [
    "get_loc_slope(temp_df,'loc_salesunits_own')"
   ]
  },
  {
   "cell_type": "markdown",
   "metadata": {},
   "source": [
    "## First part\n",
    "\n",
    "```python\n",
    "a = np.matrix([[1, x] for x in list(np.arange(num_periods))])\n",
    "```\n"
   ]
  },
  {
   "cell_type": "code",
   "execution_count": 33,
   "metadata": {},
   "outputs": [
    {
     "data": {
      "text/plain": [
       "6"
      ]
     },
     "execution_count": 33,
     "metadata": {},
     "output_type": "execute_result"
    }
   ],
   "source": [
    "num_periods = int(temp_df.shape[0])\n",
    "num_periods"
   ]
  },
  {
   "cell_type": "code",
   "execution_count": 34,
   "metadata": {},
   "outputs": [
    {
     "data": {
      "text/plain": [
       "matrix([[1, 0],\n",
       "        [1, 1],\n",
       "        [1, 2],\n",
       "        [1, 3],\n",
       "        [1, 4],\n",
       "        [1, 5]])"
      ]
     },
     "execution_count": 34,
     "metadata": {},
     "output_type": "execute_result"
    }
   ],
   "source": [
    "a_original = np.matrix([[1, x] for x in list(np.arange(num_periods))])\n",
    "a_original"
   ]
  },
  {
   "cell_type": "code",
   "execution_count": 35,
   "metadata": {},
   "outputs": [
    {
     "data": {
      "text/plain": [
       "array([1, 1, 1, 1, 1, 1])"
      ]
     },
     "execution_count": 35,
     "metadata": {},
     "output_type": "execute_result"
    }
   ],
   "source": [
    "# moving away from matrix & refactoring to use ndarrays\n",
    "np.ones(num_periods, dtype=int)"
   ]
  },
  {
   "cell_type": "code",
   "execution_count": 36,
   "metadata": {},
   "outputs": [
    {
     "data": {
      "text/plain": [
       "array([0, 1, 2, 3, 4, 5])"
      ]
     },
     "execution_count": 36,
     "metadata": {},
     "output_type": "execute_result"
    }
   ],
   "source": [
    "np.arange(num_periods)"
   ]
  },
  {
   "cell_type": "code",
   "execution_count": 37,
   "metadata": {},
   "outputs": [
    {
     "data": {
      "text/plain": [
       "array([[1, 0],\n",
       "       [1, 1],\n",
       "       [1, 2],\n",
       "       [1, 3],\n",
       "       [1, 4],\n",
       "       [1, 5]])"
      ]
     },
     "execution_count": 37,
     "metadata": {},
     "output_type": "execute_result"
    }
   ],
   "source": [
    "a_new = np.vstack(((np.ones(num_periods, dtype=int)), np.arange(num_periods))).T\n",
    "a_new"
   ]
  },
  {
   "cell_type": "markdown",
   "metadata": {},
   "source": [
    "## Second part\n",
    "\n",
    "```python \n",
    "z = (np.matrix(a.getT() * a).getI() * a.getT())[1, :]\n",
    "```"
   ]
  },
  {
   "cell_type": "code",
   "execution_count": 38,
   "metadata": {},
   "outputs": [
    {
     "data": {
      "text/plain": [
       "matrix([[-0.14285714, -0.08571429, -0.02857143,  0.02857143,  0.08571429,\n",
       "          0.14285714]])"
      ]
     },
     "execution_count": 38,
     "metadata": {},
     "output_type": "execute_result"
    }
   ],
   "source": [
    "# original\n",
    "z_original = (np.matrix(a_original.getT() * a_original).getI() * a_original.getT())[1, :]\n",
    "z_original"
   ]
  },
  {
   "cell_type": "markdown",
   "metadata": {},
   "source": [
    "**Refactoring** to ndarrays:"
   ]
  },
  {
   "cell_type": "code",
   "execution_count": 39,
   "metadata": {},
   "outputs": [
    {
     "data": {
      "text/plain": [
       "array([[ 6, 15],\n",
       "       [15, 55]])"
      ]
     },
     "execution_count": 39,
     "metadata": {},
     "output_type": "execute_result"
    }
   ],
   "source": [
    "p1 = a_new.T.dot(a_new)\n",
    "p1"
   ]
  },
  {
   "cell_type": "code",
   "execution_count": 40,
   "metadata": {},
   "outputs": [
    {
     "data": {
      "text/plain": [
       "array([[ 0.52380952, -0.14285714],\n",
       "       [-0.14285714,  0.05714286]])"
      ]
     },
     "execution_count": 40,
     "metadata": {},
     "output_type": "execute_result"
    }
   ],
   "source": [
    "from numpy.linalg import inv\n",
    "i = inv(p1)\n",
    "i"
   ]
  },
  {
   "cell_type": "code",
   "execution_count": 41,
   "metadata": {},
   "outputs": [
    {
     "data": {
      "text/plain": [
       "array([[1, 1, 1, 1, 1, 1],\n",
       "       [0, 1, 2, 3, 4, 5]])"
      ]
     },
     "execution_count": 41,
     "metadata": {},
     "output_type": "execute_result"
    }
   ],
   "source": [
    "t = a_new.T\n",
    "t"
   ]
  },
  {
   "cell_type": "code",
   "execution_count": 42,
   "metadata": {},
   "outputs": [
    {
     "data": {
      "text/plain": [
       "array([[ 0.52380952,  0.38095238,  0.23809524,  0.0952381 , -0.04761905,\n",
       "        -0.19047619],\n",
       "       [-0.14285714, -0.08571429, -0.02857143,  0.02857143,  0.08571429,\n",
       "         0.14285714]])"
      ]
     },
     "execution_count": 42,
     "metadata": {},
     "output_type": "execute_result"
    }
   ],
   "source": [
    "z = i.dot(t)\n",
    "z"
   ]
  },
  {
   "cell_type": "code",
   "execution_count": 43,
   "metadata": {},
   "outputs": [
    {
     "data": {
      "text/plain": [
       "array([-0.14285714, -0.08571429, -0.02857143,  0.02857143,  0.08571429,\n",
       "        0.14285714])"
      ]
     },
     "execution_count": 43,
     "metadata": {},
     "output_type": "execute_result"
    }
   ],
   "source": [
    "z[1,:]"
   ]
  },
  {
   "cell_type": "markdown",
   "metadata": {},
   "source": [
    "## Third part\n",
    "\n",
    "```python\n",
    "loc_weights = (np.array(abs(z) / abs(z).sum())).tolist()[0]\n",
    "```"
   ]
  },
  {
   "cell_type": "code",
   "execution_count": 44,
   "metadata": {},
   "outputs": [
    {
     "data": {
      "text/plain": [
       "[0.2777777777777778,\n",
       " 0.16666666666666669,\n",
       " 0.05555555555555555,\n",
       " 0.055555555555555566,\n",
       " 0.16666666666666669,\n",
       " 0.2777777777777778]"
      ]
     },
     "execution_count": 44,
     "metadata": {},
     "output_type": "execute_result"
    }
   ],
   "source": [
    "#original\n",
    "loc_weights_original = (np.array(abs(z_original) / abs(z_original).sum())).tolist()[0]\n",
    "loc_weights_original"
   ]
  },
  {
   "cell_type": "code",
   "execution_count": 45,
   "metadata": {},
   "outputs": [
    {
     "data": {
      "text/plain": [
       "array([-0.14285714, -0.08571429, -0.02857143,  0.02857143,  0.08571429,\n",
       "        0.14285714])"
      ]
     },
     "execution_count": 45,
     "metadata": {},
     "output_type": "execute_result"
    }
   ],
   "source": [
    "z = z[1,:]\n",
    "z"
   ]
  },
  {
   "cell_type": "code",
   "execution_count": 46,
   "metadata": {},
   "outputs": [
    {
     "data": {
      "text/plain": [
       "array([0.27777778, 0.16666667, 0.05555556, 0.05555556, 0.16666667,\n",
       "       0.27777778])"
      ]
     },
     "execution_count": 46,
     "metadata": {},
     "output_type": "execute_result"
    }
   ],
   "source": [
    "loc_weights = np.array(abs(z) / abs(z).sum())\n",
    "loc_weights\n"
   ]
  },
  {
   "cell_type": "code",
   "execution_count": 47,
   "metadata": {},
   "outputs": [
    {
     "data": {
      "text/plain": [
       "array([0.14285714, 0.08571429, 0.02857143, 0.02857143, 0.08571429,\n",
       "       0.14285714])"
      ]
     },
     "execution_count": 47,
     "metadata": {},
     "output_type": "execute_result"
    }
   ],
   "source": [
    "# second approach:\n",
    "abz = abs(z)\n",
    "abz\n"
   ]
  },
  {
   "cell_type": "code",
   "execution_count": 48,
   "metadata": {},
   "outputs": [
    {
     "data": {
      "text/plain": [
       "array([0.27777778, 0.16666667, 0.05555556, 0.05555556, 0.16666667,\n",
       "       0.27777778])"
      ]
     },
     "execution_count": 48,
     "metadata": {},
     "output_type": "execute_result"
    }
   ],
   "source": [
    "abz / abz.sum()"
   ]
  },
  {
   "cell_type": "code",
   "execution_count": 49,
   "metadata": {},
   "outputs": [
    {
     "data": {
      "text/plain": [
       "array([0.27777778, 0.16666667, 0.05555556, 0.05555556, 0.16666667,\n",
       "       0.27777778])"
      ]
     },
     "execution_count": 49,
     "metadata": {},
     "output_type": "execute_result"
    }
   ],
   "source": [
    "loc_weights = abz / abz.sum()\n",
    "loc_weights"
   ]
  },
  {
   "cell_type": "markdown",
   "metadata": {},
   "source": [
    "## forth part\n",
    "\n",
    "```python\n",
    "return pd.Series(\n",
    "        {\"loc_slope\": sum([loc_weights[i] * data.iloc[i][loc_sales_column] for i in np.arange(num_periods)])}\n",
    "    )\n",
    "```"
   ]
  },
  {
   "cell_type": "code",
   "execution_count": 50,
   "metadata": {},
   "outputs": [
    {
     "data": {
      "text/plain": [
       "0.8861111111111112"
      ]
     },
     "execution_count": 50,
     "metadata": {},
     "output_type": "execute_result"
    }
   ],
   "source": [
    "#directly in vectorized operations\n",
    "loc_sales_column = 'loc_salesunits_own'\n",
    "sum(loc_weights * temp_df[loc_sales_column])\n"
   ]
  },
  {
   "cell_type": "markdown",
   "metadata": {},
   "source": [
    "# Putting together\n"
   ]
  },
  {
   "cell_type": "code",
   "execution_count": 51,
   "metadata": {},
   "outputs": [],
   "source": [
    "# original \n",
    "def get_loc_slope(data: pd.DataFrame, loc_sales_column: str) -> pd.Series:\n",
    "    num_periods = int(data.shape[0])\n",
    "    a = np.matrix([[1, x] for x in list(np.arange(num_periods))])\n",
    "    z = (np.matrix(a.getT() * a).getI() * a.getT())[1, :]\n",
    "    loc_weights = (np.array(abs(z) / abs(z).sum())).tolist()[0]\n",
    "\n",
    "    return pd.Series(\n",
    "        {\"loc_slope\": sum([loc_weights[i] * data.iloc[i][loc_sales_column] for i in np.arange(num_periods)])}\n",
    "    )\n",
    "\n",
    "# new\n",
    "def get_loc_slope_new(data: pd.DataFrame, loc_sales_column: str) -> pd.Series:\n",
    "    num_periods = int(data.shape[0])\n",
    "    a = np.vstack(((np.ones(num_periods, dtype=int)), np.arange(num_periods))).T\n",
    "    z = inv(a.T.dot(a)).dot(a.T)[1,:]\n",
    "    abz = abs(z)\n",
    "    loc_weights = abz / abz.sum()\n",
    "    \n",
    "    return pd.Series({\"loc_slope\": sum(loc_weights * data[loc_sales_column])})"
   ]
  },
  {
   "cell_type": "code",
   "execution_count": 52,
   "metadata": {},
   "outputs": [
    {
     "data": {
      "text/plain": [
       "loc_slope    0.886111\n",
       "dtype: float64"
      ]
     },
     "execution_count": 52,
     "metadata": {},
     "output_type": "execute_result"
    }
   ],
   "source": [
    "get_loc_slope(temp_df,'loc_salesunits_own')"
   ]
  },
  {
   "cell_type": "code",
   "execution_count": 53,
   "metadata": {},
   "outputs": [
    {
     "data": {
      "text/plain": [
       "loc_slope    0.886111\n",
       "dtype: float64"
      ]
     },
     "execution_count": 53,
     "metadata": {},
     "output_type": "execute_result"
    }
   ],
   "source": [
    "get_loc_slope_new(temp_df,'loc_salesunits_own')"
   ]
  },
  {
   "cell_type": "markdown",
   "metadata": {},
   "source": [
    "### Performance eval"
   ]
  },
  {
   "cell_type": "code",
   "execution_count": 54,
   "metadata": {},
   "outputs": [],
   "source": [
    "n = 100"
   ]
  },
  {
   "cell_type": "code",
   "execution_count": 55,
   "metadata": {},
   "outputs": [
    {
     "name": "stdout",
     "output_type": "stream",
     "text": [
      "1.05 ms ± 71.7 µs per loop (mean ± std. dev. of 100 runs, 100 loops each)\n"
     ]
    }
   ],
   "source": [
    "%%timeit -n 100 -r 100\n",
    "get_loc_slope(temp_df,'loc_salesunits_own')"
   ]
  },
  {
   "cell_type": "code",
   "execution_count": 56,
   "metadata": {},
   "outputs": [
    {
     "name": "stdout",
     "output_type": "stream",
     "text": [
      "349 µs ± 14.2 µs per loop (mean ± std. dev. of 100 runs, 100 loops each)\n"
     ]
    }
   ],
   "source": [
    "%%timeit  -n 100 -r 100\n",
    "get_loc_slope_new(temp_df,'loc_salesunits_own')"
   ]
  },
  {
   "cell_type": "markdown",
   "metadata": {},
   "source": [
    "#### Run over more data\n",
    "\n",
    "Let's use `wgt_distr_own` over the entire `WASHINGMACHINES-DE-2650` data frame to assess the difference in time between the two implementations\n"
   ]
  },
  {
   "cell_type": "code",
   "execution_count": 57,
   "metadata": {},
   "outputs": [
    {
     "name": "stdout",
     "output_type": "stream",
     "text": [
      "<class 'pandas.core.frame.DataFrame'>\n",
      "RangeIndex: 11212 entries, 0 to 11211\n",
      "Data columns (total 27 columns):\n",
      " #   Column                     Non-Null Count  Dtype  \n",
      "---  ------                     --------------  -----  \n",
      " 0   item_id                    11212 non-null  int64  \n",
      " 1   item_group_code            11212 non-null  object \n",
      " 2   country_code               11212 non-null  object \n",
      " 3   period_seq                 11212 non-null  int64  \n",
      " 4   my_rank                    9149 non-null   float64\n",
      " 5   competitor_item_id         9149 non-null   float64\n",
      " 6   loc_distance_euclidean     9149 non-null   float64\n",
      " 7   distance_euclidean         9149 non-null   float64\n",
      " 8   distribution_overlap       9149 non-null   float64\n",
      " 9   brand                      11212 non-null  object \n",
      " 10  price_own                  11212 non-null  float64\n",
      " 11  loc_price_own              11212 non-null  float64\n",
      " 12  salesunits_own             11212 non-null  float64\n",
      " 13  loc_salesunits_own         11212 non-null  float64\n",
      " 14  sufficient_sales_own       11212 non-null  bool   \n",
      " 15  wgt_distr_own              11212 non-null  float64\n",
      " 16  loc_wgt_distr_own          11212 non-null  float64\n",
      " 17  brand_competitor           9007 non-null   object \n",
      " 18  price_competitor           9007 non-null   float64\n",
      " 19  loc_price_competitor       9007 non-null   float64\n",
      " 20  salesunits_competitor      9007 non-null   float64\n",
      " 21  loc_salesunits_competitor  9007 non-null   float64\n",
      " 22  wgt_distr_competitor       9007 non-null   float64\n",
      " 23  loc_wgt_distr_competitor   9007 non-null   float64\n",
      " 24  no_of_periods_in_focus     11212 non-null  int64  \n",
      " 25  tpr_efficiency_own         2689 non-null   float64\n",
      " 26  loc_tpr_efficiency_own     9149 non-null   float64\n",
      "dtypes: bool(1), float64(19), int64(3), object(4)\n",
      "memory usage: 2.2+ MB\n"
     ]
    }
   ],
   "source": [
    "washing_machines_df = pd.read_pickle(\"WASHINGMACHINES-DE-2650\")\n",
    "washing_machines_df.info()"
   ]
  },
  {
   "cell_type": "code",
   "execution_count": 58,
   "metadata": {},
   "outputs": [
    {
     "data": {
      "text/html": [
       "<div>\n",
       "<style scoped>\n",
       "    .dataframe tbody tr th:only-of-type {\n",
       "        vertical-align: middle;\n",
       "    }\n",
       "\n",
       "    .dataframe tbody tr th {\n",
       "        vertical-align: top;\n",
       "    }\n",
       "\n",
       "    .dataframe thead th {\n",
       "        text-align: right;\n",
       "    }\n",
       "</style>\n",
       "<table border=\"1\" class=\"dataframe\">\n",
       "  <thead>\n",
       "    <tr style=\"text-align: right;\">\n",
       "      <th></th>\n",
       "      <th>item_id</th>\n",
       "      <th>item_group_code</th>\n",
       "      <th>country_code</th>\n",
       "      <th>period_seq</th>\n",
       "      <th>my_rank</th>\n",
       "      <th>competitor_item_id</th>\n",
       "      <th>loc_distance_euclidean</th>\n",
       "      <th>distance_euclidean</th>\n",
       "      <th>distribution_overlap</th>\n",
       "      <th>brand</th>\n",
       "      <th>...</th>\n",
       "      <th>brand_competitor</th>\n",
       "      <th>price_competitor</th>\n",
       "      <th>loc_price_competitor</th>\n",
       "      <th>salesunits_competitor</th>\n",
       "      <th>loc_salesunits_competitor</th>\n",
       "      <th>wgt_distr_competitor</th>\n",
       "      <th>loc_wgt_distr_competitor</th>\n",
       "      <th>no_of_periods_in_focus</th>\n",
       "      <th>tpr_efficiency_own</th>\n",
       "      <th>loc_tpr_efficiency_own</th>\n",
       "    </tr>\n",
       "  </thead>\n",
       "  <tbody>\n",
       "    <tr>\n",
       "      <th>0</th>\n",
       "      <td>7581644</td>\n",
       "      <td>WASHINGMACHINES</td>\n",
       "      <td>DE</td>\n",
       "      <td>2648</td>\n",
       "      <td>1.0</td>\n",
       "      <td>129472963.0</td>\n",
       "      <td>1.0</td>\n",
       "      <td>0.600792</td>\n",
       "      <td>1.0</td>\n",
       "      <td>EUMENIA</td>\n",
       "      <td>...</td>\n",
       "      <td>SIEMENS</td>\n",
       "      <td>487.923153</td>\n",
       "      <td>1.0</td>\n",
       "      <td>237.635714</td>\n",
       "      <td>1.0</td>\n",
       "      <td>0.208134</td>\n",
       "      <td>1.0</td>\n",
       "      <td>2</td>\n",
       "      <td>NaN</td>\n",
       "      <td>1.0</td>\n",
       "    </tr>\n",
       "    <tr>\n",
       "      <th>1</th>\n",
       "      <td>7581644</td>\n",
       "      <td>WASHINGMACHINES</td>\n",
       "      <td>DE</td>\n",
       "      <td>2650</td>\n",
       "      <td>1.0</td>\n",
       "      <td>129472963.0</td>\n",
       "      <td>1.0</td>\n",
       "      <td>0.600792</td>\n",
       "      <td>1.0</td>\n",
       "      <td>EUMENIA</td>\n",
       "      <td>...</td>\n",
       "      <td>SIEMENS</td>\n",
       "      <td>492.294039</td>\n",
       "      <td>1.0</td>\n",
       "      <td>133.136078</td>\n",
       "      <td>1.0</td>\n",
       "      <td>0.182507</td>\n",
       "      <td>1.0</td>\n",
       "      <td>2</td>\n",
       "      <td>NaN</td>\n",
       "      <td>1.0</td>\n",
       "    </tr>\n",
       "    <tr>\n",
       "      <th>2</th>\n",
       "      <td>24977321</td>\n",
       "      <td>WASHINGMACHINES</td>\n",
       "      <td>DE</td>\n",
       "      <td>2647</td>\n",
       "      <td>1.0</td>\n",
       "      <td>100173454.0</td>\n",
       "      <td>1.0</td>\n",
       "      <td>0.600049</td>\n",
       "      <td>0.5</td>\n",
       "      <td>AEG</td>\n",
       "      <td>...</td>\n",
       "      <td>None</td>\n",
       "      <td>NaN</td>\n",
       "      <td>NaN</td>\n",
       "      <td>NaN</td>\n",
       "      <td>NaN</td>\n",
       "      <td>NaN</td>\n",
       "      <td>NaN</td>\n",
       "      <td>2</td>\n",
       "      <td>NaN</td>\n",
       "      <td>1.0</td>\n",
       "    </tr>\n",
       "    <tr>\n",
       "      <th>3</th>\n",
       "      <td>24977321</td>\n",
       "      <td>WASHINGMACHINES</td>\n",
       "      <td>DE</td>\n",
       "      <td>2650</td>\n",
       "      <td>1.0</td>\n",
       "      <td>100173454.0</td>\n",
       "      <td>1.0</td>\n",
       "      <td>0.600049</td>\n",
       "      <td>0.5</td>\n",
       "      <td>AEG</td>\n",
       "      <td>...</td>\n",
       "      <td>BAUKNECHT</td>\n",
       "      <td>299.000000</td>\n",
       "      <td>1.0</td>\n",
       "      <td>2.000000</td>\n",
       "      <td>1.0</td>\n",
       "      <td>0.000231</td>\n",
       "      <td>1.0</td>\n",
       "      <td>2</td>\n",
       "      <td>NaN</td>\n",
       "      <td>1.0</td>\n",
       "    </tr>\n",
       "    <tr>\n",
       "      <th>4</th>\n",
       "      <td>25030904</td>\n",
       "      <td>WASHINGMACHINES</td>\n",
       "      <td>DE</td>\n",
       "      <td>2647</td>\n",
       "      <td>NaN</td>\n",
       "      <td>NaN</td>\n",
       "      <td>NaN</td>\n",
       "      <td>NaN</td>\n",
       "      <td>NaN</td>\n",
       "      <td>ELECTROLUX</td>\n",
       "      <td>...</td>\n",
       "      <td>None</td>\n",
       "      <td>NaN</td>\n",
       "      <td>NaN</td>\n",
       "      <td>NaN</td>\n",
       "      <td>NaN</td>\n",
       "      <td>NaN</td>\n",
       "      <td>NaN</td>\n",
       "      <td>2</td>\n",
       "      <td>NaN</td>\n",
       "      <td>NaN</td>\n",
       "    </tr>\n",
       "  </tbody>\n",
       "</table>\n",
       "<p>5 rows × 27 columns</p>\n",
       "</div>"
      ],
      "text/plain": [
       "    item_id  item_group_code country_code  period_seq  my_rank  \\\n",
       "0   7581644  WASHINGMACHINES           DE        2648      1.0   \n",
       "1   7581644  WASHINGMACHINES           DE        2650      1.0   \n",
       "2  24977321  WASHINGMACHINES           DE        2647      1.0   \n",
       "3  24977321  WASHINGMACHINES           DE        2650      1.0   \n",
       "4  25030904  WASHINGMACHINES           DE        2647      NaN   \n",
       "\n",
       "   competitor_item_id  loc_distance_euclidean  distance_euclidean  \\\n",
       "0         129472963.0                     1.0            0.600792   \n",
       "1         129472963.0                     1.0            0.600792   \n",
       "2         100173454.0                     1.0            0.600049   \n",
       "3         100173454.0                     1.0            0.600049   \n",
       "4                 NaN                     NaN                 NaN   \n",
       "\n",
       "   distribution_overlap       brand  ...  brand_competitor  price_competitor  \\\n",
       "0                   1.0     EUMENIA  ...           SIEMENS        487.923153   \n",
       "1                   1.0     EUMENIA  ...           SIEMENS        492.294039   \n",
       "2                   0.5         AEG  ...              None               NaN   \n",
       "3                   0.5         AEG  ...         BAUKNECHT        299.000000   \n",
       "4                   NaN  ELECTROLUX  ...              None               NaN   \n",
       "\n",
       "   loc_price_competitor  salesunits_competitor  loc_salesunits_competitor  \\\n",
       "0                   1.0             237.635714                        1.0   \n",
       "1                   1.0             133.136078                        1.0   \n",
       "2                   NaN                    NaN                        NaN   \n",
       "3                   1.0               2.000000                        1.0   \n",
       "4                   NaN                    NaN                        NaN   \n",
       "\n",
       "   wgt_distr_competitor  loc_wgt_distr_competitor no_of_periods_in_focus  \\\n",
       "0              0.208134                       1.0                      2   \n",
       "1              0.182507                       1.0                      2   \n",
       "2                   NaN                       NaN                      2   \n",
       "3              0.000231                       1.0                      2   \n",
       "4                   NaN                       NaN                      2   \n",
       "\n",
       "   tpr_efficiency_own  loc_tpr_efficiency_own  \n",
       "0                 NaN                     1.0  \n",
       "1                 NaN                     1.0  \n",
       "2                 NaN                     1.0  \n",
       "3                 NaN                     1.0  \n",
       "4                 NaN                     NaN  \n",
       "\n",
       "[5 rows x 27 columns]"
      ]
     },
     "execution_count": 58,
     "metadata": {},
     "output_type": "execute_result"
    }
   ],
   "source": [
    "washing_machines_df.head()"
   ]
  },
  {
   "cell_type": "code",
   "execution_count": 59,
   "metadata": {},
   "outputs": [
    {
     "name": "stdout",
     "output_type": "stream",
     "text": [
      "1.23 s ± 25.5 ms per loop (mean ± std. dev. of 5 runs, 5 loops each)\n"
     ]
    }
   ],
   "source": [
    "%%timeit -n 5 -r 5\n",
    "get_loc_slope(washing_machines_df, 'wgt_distr_own')"
   ]
  },
  {
   "cell_type": "code",
   "execution_count": 60,
   "metadata": {},
   "outputs": [
    {
     "name": "stdout",
     "output_type": "stream",
     "text": [
      "1.39 ms ± 117 µs per loop (mean ± std. dev. of 100 runs, 100 loops each)\n"
     ]
    }
   ],
   "source": [
    "%%timeit  -n 100 -r 100\n",
    "get_loc_slope_new(washing_machines_df, 'wgt_distr_own')"
   ]
  },
  {
   "cell_type": "code",
   "execution_count": 61,
   "metadata": {},
   "outputs": [
    {
     "data": {
      "text/plain": [
       "loc_slope    0.098072\n",
       "dtype: float64"
      ]
     },
     "execution_count": 61,
     "metadata": {},
     "output_type": "execute_result"
    }
   ],
   "source": [
    "baseline_result = get_loc_slope(washing_machines_df, 'wgt_distr_own')\n",
    "baseline_result"
   ]
  },
  {
   "cell_type": "code",
   "execution_count": 62,
   "metadata": {},
   "outputs": [
    {
     "data": {
      "text/plain": [
       "loc_slope    0.098072\n",
       "dtype: float64"
      ]
     },
     "execution_count": 62,
     "metadata": {},
     "output_type": "execute_result"
    }
   ],
   "source": [
    "alternative_result = get_loc_slope_new(washing_machines_df, 'wgt_distr_own')\n",
    "alternative_result"
   ]
  },
  {
   "cell_type": "code",
   "execution_count": null,
   "metadata": {},
   "outputs": [],
   "source": []
  }
 ],
 "metadata": {
  "kernelspec": {
   "display_name": "Python 3",
   "language": "python",
   "name": "python3"
  },
  "language_info": {
   "codemirror_mode": {
    "name": "ipython",
    "version": 3
   },
   "file_extension": ".py",
   "mimetype": "text/x-python",
   "name": "python",
   "nbconvert_exporter": "python",
   "pygments_lexer": "ipython3",
   "version": "3.8.2"
  }
 },
 "nbformat": 4,
 "nbformat_minor": 4
}
