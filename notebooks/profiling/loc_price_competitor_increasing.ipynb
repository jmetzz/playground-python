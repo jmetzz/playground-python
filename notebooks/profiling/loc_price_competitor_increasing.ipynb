{
 "cells": [
  {
   "cell_type": "code",
   "execution_count": 43,
   "metadata": {},
   "outputs": [
    {
     "name": "stdout",
     "output_type": "stream",
     "text": [
      "The autoreload extension is already loaded. To reload it, use:\n",
      "  %reload_ext autoreload\n"
     ]
    }
   ],
   "source": [
    "from io import StringIO\n",
    "\n",
    "import numpy as np\n",
    "import pandas as pd\n",
    "\n",
    "%load_ext autoreload\n",
    "%autoreload 2"
   ]
  },
  {
   "cell_type": "markdown",
   "metadata": {},
   "source": [
    "# Price competitor increasing, logic breakdown"
   ]
  },
  {
   "cell_type": "code",
   "execution_count": 44,
   "metadata": {},
   "outputs": [],
   "source": [
    "def loc_price_competitor_increasing(data: pd.DataFrame) -> pd.Series:\n",
    "    return pd.Series(\n",
    "        {\n",
    "            \"loc_price_competitor_historic_increasing\": min(\n",
    "                [data.iloc[-i][\"loc_price_competitor\"] for i in range(0, data.shape[0] + 1)]\n",
    "            )\n",
    "        }\n",
    "    )"
   ]
  },
  {
   "cell_type": "code",
   "execution_count": 45,
   "metadata": {},
   "outputs": [
    {
     "data": {
      "text/html": [
       "<div>\n",
       "<style scoped>\n",
       "    .dataframe tbody tr th:only-of-type {\n",
       "        vertical-align: middle;\n",
       "    }\n",
       "\n",
       "    .dataframe tbody tr th {\n",
       "        vertical-align: top;\n",
       "    }\n",
       "\n",
       "    .dataframe thead th {\n",
       "        text-align: right;\n",
       "    }\n",
       "</style>\n",
       "<table border=\"1\" class=\"dataframe\">\n",
       "  <thead>\n",
       "    <tr style=\"text-align: right;\">\n",
       "      <th></th>\n",
       "      <th>item_id</th>\n",
       "      <th>competitor_item_id</th>\n",
       "      <th>loc_price_own</th>\n",
       "      <th>loc_price_competitor</th>\n",
       "    </tr>\n",
       "  </thead>\n",
       "  <tbody>\n",
       "    <tr>\n",
       "      <th>0</th>\n",
       "      <td>1</td>\n",
       "      <td>2</td>\n",
       "      <td>0.90</td>\n",
       "      <td>NaN</td>\n",
       "    </tr>\n",
       "    <tr>\n",
       "      <th>1</th>\n",
       "      <td>1</td>\n",
       "      <td>2</td>\n",
       "      <td>0.92</td>\n",
       "      <td>NaN</td>\n",
       "    </tr>\n",
       "    <tr>\n",
       "      <th>2</th>\n",
       "      <td>1</td>\n",
       "      <td>2</td>\n",
       "      <td>0.93</td>\n",
       "      <td>NaN</td>\n",
       "    </tr>\n",
       "    <tr>\n",
       "      <th>3</th>\n",
       "      <td>1</td>\n",
       "      <td>2</td>\n",
       "      <td>0.96</td>\n",
       "      <td>NaN</td>\n",
       "    </tr>\n",
       "    <tr>\n",
       "      <th>4</th>\n",
       "      <td>1</td>\n",
       "      <td>2</td>\n",
       "      <td>0.97</td>\n",
       "      <td>NaN</td>\n",
       "    </tr>\n",
       "    <tr>\n",
       "      <th>5</th>\n",
       "      <td>1</td>\n",
       "      <td>2</td>\n",
       "      <td>1.00</td>\n",
       "      <td>NaN</td>\n",
       "    </tr>\n",
       "  </tbody>\n",
       "</table>\n",
       "</div>"
      ],
      "text/plain": [
       "   item_id  competitor_item_id  loc_price_own  loc_price_competitor\n",
       "0        1                   2           0.90                   NaN\n",
       "1        1                   2           0.92                   NaN\n",
       "2        1                   2           0.93                   NaN\n",
       "3        1                   2           0.96                   NaN\n",
       "4        1                   2           0.97                   NaN\n",
       "5        1                   2           1.00                   NaN"
      ]
     },
     "execution_count": 45,
     "metadata": {},
     "output_type": "execute_result"
    }
   ],
   "source": [
    "# dummy data\n",
    "input_str = \"\"\"item_id,competitor_item_id,loc_price_own,loc_price_competitor\n",
    "1,2,0.90\n",
    "1,2,0.92\n",
    "1,2,0.93\n",
    "1,2,0.96\n",
    "1,2,0.97\n",
    "1,2,1.00\n",
    "\"\"\"\n",
    "temp_df = pd.read_csv(StringIO(input_str))\n",
    "temp_df"
   ]
  },
  {
   "cell_type": "code",
   "execution_count": 46,
   "metadata": {},
   "outputs": [
    {
     "name": "stdout",
     "output_type": "stream",
     "text": [
      "92.1 µs ± 13.3 µs per loop (mean ± std. dev. of 5 runs, 5 loops each)\n"
     ]
    }
   ],
   "source": [
    "%%timeit -n 5 -r 5\n",
    "# within each groupby [\"item_id\", \"competitor_item_id\"], the code performs\n",
    "outcome = min([temp_df.iloc[-i][\"loc_price_competitor\"] for i in range(0, temp_df.shape[0] + 1)])"
   ]
  },
  {
   "cell_type": "code",
   "execution_count": 47,
   "metadata": {},
   "outputs": [
    {
     "name": "stdout",
     "output_type": "stream",
     "text": [
      "The slowest run took 9.31 times longer than the fastest. This could mean that an intermediate result is being cached.\n",
      "5.25 µs ± 6.49 µs per loop (mean ± std. dev. of 5 runs, 5 loops each)\n"
     ]
    }
   ],
   "source": [
    "%%timeit -n 5 -r 5\n",
    "min(temp_df[\"loc_price_competitor\"])"
   ]
  },
  {
   "cell_type": "code",
   "execution_count": 48,
   "metadata": {},
   "outputs": [
    {
     "name": "stdout",
     "output_type": "stream",
     "text": [
      "The slowest run took 4.77 times longer than the fastest. This could mean that an intermediate result is being cached.\n",
      "13.1 µs ± 10.2 µs per loop (mean ± std. dev. of 5 runs, 5 loops each)\n"
     ]
    }
   ],
   "source": [
    "%%timeit -n 5 -r 5\n",
    "temp_df[\"loc_price_competitor\"].min()"
   ]
  },
  {
   "cell_type": "code",
   "execution_count": 49,
   "metadata": {},
   "outputs": [
    {
     "data": {
      "text/plain": [
       "loc_price_competitor_historic_increasing   NaN\n",
       "dtype: float64"
      ]
     },
     "execution_count": 49,
     "metadata": {},
     "output_type": "execute_result"
    }
   ],
   "source": [
    "debug = True\n",
    "decr_price = loc_price_competitor_increasing(temp_df)\n",
    "decr_price"
   ]
  },
  {
   "cell_type": "markdown",
   "metadata": {},
   "source": [
    "# Price gap logic breakdown"
   ]
  },
  {
   "cell_type": "code",
   "execution_count": 50,
   "metadata": {},
   "outputs": [],
   "source": [
    "# original\n",
    "def get_loc_price_gap(data: pd.DataFrame) -> pd.Series:\n",
    "    df = data.iloc[0:4]\n",
    "    value = min(min(df[\"loc_price_own\"]), min(df[\"loc_price_competitor\"]))  # noqa: F841\n",
    "    return pd.Series(\n",
    "        {\n",
    "            \"loc_price_gap\": np.min(\n",
    "                [\n",
    "                    data.iloc[0][\"loc_price_own\"],\n",
    "                    data.iloc[0][\"loc_price_competitor\"],\n",
    "                    data.iloc[1][\"loc_price_own\"],\n",
    "                    data.iloc[1][\"loc_price_competitor\"],\n",
    "                    data.iloc[2][\"loc_price_own\"],\n",
    "                    data.iloc[2][\"loc_price_competitor\"],\n",
    "                    data.iloc[3][\"loc_price_own\"],\n",
    "                    data.iloc[3][\"loc_price_competitor\"],\n",
    "                ]\n",
    "            )\n",
    "        }\n",
    "    )"
   ]
  },
  {
   "cell_type": "code",
   "execution_count": 51,
   "metadata": {},
   "outputs": [],
   "source": [
    "# new\n",
    "def get_loc_price_gap_new(data: pd.DataFrame) -> pd.Series:\n",
    "    df = data.iloc[0:4]\n",
    "    value = min(min(df[\"loc_price_own\"]), min(df[\"loc_price_competitor\"]))\n",
    "    return pd.Series({\"loc_price_gap\": value})"
   ]
  },
  {
   "cell_type": "code",
   "execution_count": 52,
   "metadata": {},
   "outputs": [
    {
     "data": {
      "text/html": [
       "<div>\n",
       "<style scoped>\n",
       "    .dataframe tbody tr th:only-of-type {\n",
       "        vertical-align: middle;\n",
       "    }\n",
       "\n",
       "    .dataframe tbody tr th {\n",
       "        vertical-align: top;\n",
       "    }\n",
       "\n",
       "    .dataframe thead th {\n",
       "        text-align: right;\n",
       "    }\n",
       "</style>\n",
       "<table border=\"1\" class=\"dataframe\">\n",
       "  <thead>\n",
       "    <tr style=\"text-align: right;\">\n",
       "      <th></th>\n",
       "      <th>item_id</th>\n",
       "      <th>competitor_item_id</th>\n",
       "      <th>loc_price_own</th>\n",
       "      <th>loc_price_competitor</th>\n",
       "    </tr>\n",
       "  </thead>\n",
       "  <tbody>\n",
       "    <tr>\n",
       "      <th>0</th>\n",
       "      <td>1</td>\n",
       "      <td>2</td>\n",
       "      <td>0.90</td>\n",
       "      <td>0.75</td>\n",
       "    </tr>\n",
       "    <tr>\n",
       "      <th>1</th>\n",
       "      <td>1</td>\n",
       "      <td>2</td>\n",
       "      <td>0.92</td>\n",
       "      <td>0.90</td>\n",
       "    </tr>\n",
       "    <tr>\n",
       "      <th>2</th>\n",
       "      <td>1</td>\n",
       "      <td>2</td>\n",
       "      <td>0.93</td>\n",
       "      <td>0.91</td>\n",
       "    </tr>\n",
       "    <tr>\n",
       "      <th>3</th>\n",
       "      <td>1</td>\n",
       "      <td>2</td>\n",
       "      <td>0.96</td>\n",
       "      <td>0.65</td>\n",
       "    </tr>\n",
       "    <tr>\n",
       "      <th>4</th>\n",
       "      <td>1</td>\n",
       "      <td>2</td>\n",
       "      <td>0.97</td>\n",
       "      <td>0.98</td>\n",
       "    </tr>\n",
       "    <tr>\n",
       "      <th>5</th>\n",
       "      <td>1</td>\n",
       "      <td>2</td>\n",
       "      <td>1.00</td>\n",
       "      <td>1.00</td>\n",
       "    </tr>\n",
       "  </tbody>\n",
       "</table>\n",
       "</div>"
      ],
      "text/plain": [
       "   item_id  competitor_item_id  loc_price_own  loc_price_competitor\n",
       "0        1                   2           0.90                  0.75\n",
       "1        1                   2           0.92                  0.90\n",
       "2        1                   2           0.93                  0.91\n",
       "3        1                   2           0.96                  0.65\n",
       "4        1                   2           0.97                  0.98\n",
       "5        1                   2           1.00                  1.00"
      ]
     },
     "execution_count": 52,
     "metadata": {},
     "output_type": "execute_result"
    }
   ],
   "source": [
    "input_str = \"\"\"item_id,competitor_item_id,loc_price_own,loc_price_competitor\n",
    "1,2,0.90,0.75\n",
    "1,2,0.92,0.90\n",
    "1,2,0.93,0.91\n",
    "1,2,0.96,0.65\n",
    "1,2,0.97,0.98\n",
    "1,2,1.00,1.00\n",
    "\"\"\"\n",
    "temp_df = pd.read_csv(StringIO(input_str))\n",
    "temp_df"
   ]
  },
  {
   "cell_type": "code",
   "execution_count": 53,
   "metadata": {},
   "outputs": [
    {
     "data": {
      "text/plain": [
       "loc_price_gap    0.65\n",
       "dtype: float64"
      ]
     },
     "execution_count": 53,
     "metadata": {},
     "output_type": "execute_result"
    }
   ],
   "source": [
    "get_loc_price_gap(temp_df)"
   ]
  },
  {
   "cell_type": "code",
   "execution_count": 54,
   "metadata": {},
   "outputs": [
    {
     "data": {
      "text/plain": [
       "loc_price_gap    0.65\n",
       "dtype: float64"
      ]
     },
     "execution_count": 54,
     "metadata": {},
     "output_type": "execute_result"
    }
   ],
   "source": [
    "get_loc_price_gap_new(temp_df)"
   ]
  },
  {
   "cell_type": "code",
   "execution_count": 55,
   "metadata": {},
   "outputs": [
    {
     "name": "stdout",
     "output_type": "stream",
     "text": [
      "185 µs ± 25.4 µs per loop (mean ± std. dev. of 5 runs, 5 loops each)\n"
     ]
    }
   ],
   "source": [
    "%%timeit -n 5 -r 5\n",
    "get_loc_price_gap(temp_df)"
   ]
  },
  {
   "cell_type": "code",
   "execution_count": 56,
   "metadata": {},
   "outputs": [
    {
     "name": "stdout",
     "output_type": "stream",
     "text": [
      "71.1 µs ± 20.8 µs per loop (mean ± std. dev. of 5 runs, 5 loops each)\n"
     ]
    }
   ],
   "source": [
    "%%timeit -n 5 -r 5\n",
    "get_loc_price_gap_new(temp_df)"
   ]
  },
  {
   "cell_type": "markdown",
   "metadata": {},
   "source": [
    "# slope, logic breakdown"
   ]
  },
  {
   "cell_type": "code",
   "execution_count": 57,
   "metadata": {},
   "outputs": [
    {
     "data": {
      "text/html": [
       "<div>\n",
       "<style scoped>\n",
       "    .dataframe tbody tr th:only-of-type {\n",
       "        vertical-align: middle;\n",
       "    }\n",
       "\n",
       "    .dataframe tbody tr th {\n",
       "        vertical-align: top;\n",
       "    }\n",
       "\n",
       "    .dataframe thead th {\n",
       "        text-align: right;\n",
       "    }\n",
       "</style>\n",
       "<table border=\"1\" class=\"dataframe\">\n",
       "  <thead>\n",
       "    <tr style=\"text-align: right;\">\n",
       "      <th></th>\n",
       "      <th>item_id</th>\n",
       "      <th>competitor_item_id</th>\n",
       "      <th>loc_price_own</th>\n",
       "      <th>loc_salesunits_own</th>\n",
       "    </tr>\n",
       "  </thead>\n",
       "  <tbody>\n",
       "    <tr>\n",
       "      <th>0</th>\n",
       "      <td>1</td>\n",
       "      <td>2</td>\n",
       "      <td>0.90</td>\n",
       "      <td>0.75</td>\n",
       "    </tr>\n",
       "    <tr>\n",
       "      <th>1</th>\n",
       "      <td>1</td>\n",
       "      <td>2</td>\n",
       "      <td>0.92</td>\n",
       "      <td>0.90</td>\n",
       "    </tr>\n",
       "    <tr>\n",
       "      <th>2</th>\n",
       "      <td>1</td>\n",
       "      <td>2</td>\n",
       "      <td>0.93</td>\n",
       "      <td>0.91</td>\n",
       "    </tr>\n",
       "    <tr>\n",
       "      <th>3</th>\n",
       "      <td>1</td>\n",
       "      <td>2</td>\n",
       "      <td>0.96</td>\n",
       "      <td>0.65</td>\n",
       "    </tr>\n",
       "    <tr>\n",
       "      <th>4</th>\n",
       "      <td>1</td>\n",
       "      <td>2</td>\n",
       "      <td>0.97</td>\n",
       "      <td>0.98</td>\n",
       "    </tr>\n",
       "    <tr>\n",
       "      <th>5</th>\n",
       "      <td>1</td>\n",
       "      <td>2</td>\n",
       "      <td>1.00</td>\n",
       "      <td>1.00</td>\n",
       "    </tr>\n",
       "  </tbody>\n",
       "</table>\n",
       "</div>"
      ],
      "text/plain": [
       "   item_id  competitor_item_id  loc_price_own  loc_salesunits_own\n",
       "0        1                   2           0.90                0.75\n",
       "1        1                   2           0.92                0.90\n",
       "2        1                   2           0.93                0.91\n",
       "3        1                   2           0.96                0.65\n",
       "4        1                   2           0.97                0.98\n",
       "5        1                   2           1.00                1.00"
      ]
     },
     "execution_count": 57,
     "metadata": {},
     "output_type": "execute_result"
    }
   ],
   "source": [
    "input_str = \"\"\"item_id,competitor_item_id,loc_price_own,loc_salesunits_own\n",
    "1,2,0.90,0.75\n",
    "1,2,0.92,0.90\n",
    "1,2,0.93,0.91\n",
    "1,2,0.96,0.65\n",
    "1,2,0.97,0.98\n",
    "1,2,1.00,1.00\n",
    "\"\"\"\n",
    "temp_df = pd.read_csv(StringIO(input_str))\n",
    "temp_df"
   ]
  },
  {
   "cell_type": "code",
   "execution_count": 58,
   "metadata": {},
   "outputs": [],
   "source": [
    "# original\n",
    "def get_loc_slope(data: pd.DataFrame, loc_sales_column: str) -> pd.Series:\n",
    "    num_periods = int(data.shape[0])\n",
    "    a = np.matrix([[1, x] for x in list(np.arange(num_periods))])\n",
    "    z = (np.matrix(a.getT() * a).getI() * a.getT())[1, :]\n",
    "    loc_weights = (np.array(abs(z) / abs(z).sum())).tolist()[0]\n",
    "\n",
    "    return pd.Series(\n",
    "        {\"loc_slope\": sum([loc_weights[i] * data.iloc[i][loc_sales_column] for i in np.arange(num_periods)])}\n",
    "    )"
   ]
  },
  {
   "cell_type": "code",
   "execution_count": 59,
   "metadata": {},
   "outputs": [
    {
     "data": {
      "text/plain": [
       "loc_slope    0.886111\n",
       "dtype: float64"
      ]
     },
     "execution_count": 59,
     "metadata": {},
     "output_type": "execute_result"
    }
   ],
   "source": [
    "get_loc_slope(temp_df, \"loc_salesunits_own\")"
   ]
  },
  {
   "cell_type": "markdown",
   "metadata": {},
   "source": [
    "## First part\n",
    "\n",
    "```python\n",
    "a = np.matrix([[1, x] for x in list(np.arange(num_periods))])\n",
    "```\n"
   ]
  },
  {
   "cell_type": "code",
   "execution_count": 60,
   "metadata": {},
   "outputs": [
    {
     "data": {
      "text/plain": [
       "matrix([[1, 0],\n",
       "        [1, 1],\n",
       "        [1, 2],\n",
       "        [1, 3],\n",
       "        [1, 4],\n",
       "        [1, 5]])"
      ]
     },
     "execution_count": 60,
     "metadata": {},
     "output_type": "execute_result"
    }
   ],
   "source": [
    "num_periods = int(temp_df.shape[0])\n",
    "a_original = np.matrix([[1, x] for x in list(np.arange(num_periods))])\n",
    "a_original"
   ]
  },
  {
   "cell_type": "code",
   "execution_count": 61,
   "metadata": {},
   "outputs": [
    {
     "data": {
      "text/plain": [
       "array([1, 1, 1, 1, 1, 1])"
      ]
     },
     "execution_count": 61,
     "metadata": {},
     "output_type": "execute_result"
    }
   ],
   "source": [
    "# moving away from matrix & refactoring to use ndarrays\n",
    "np.ones(num_periods, dtype=int)"
   ]
  },
  {
   "cell_type": "code",
   "execution_count": 62,
   "metadata": {},
   "outputs": [
    {
     "data": {
      "text/plain": [
       "array([0, 1, 2, 3, 4, 5])"
      ]
     },
     "execution_count": 62,
     "metadata": {},
     "output_type": "execute_result"
    }
   ],
   "source": [
    "np.arange(num_periods)"
   ]
  },
  {
   "cell_type": "code",
   "execution_count": 63,
   "metadata": {},
   "outputs": [
    {
     "data": {
      "text/plain": [
       "array([[1, 0],\n",
       "       [1, 1],\n",
       "       [1, 2],\n",
       "       [1, 3],\n",
       "       [1, 4],\n",
       "       [1, 5]])"
      ]
     },
     "execution_count": 63,
     "metadata": {},
     "output_type": "execute_result"
    }
   ],
   "source": [
    "a_new = np.vstack(((np.ones(num_periods, dtype=int)), np.arange(num_periods))).T\n",
    "a_new"
   ]
  },
  {
   "cell_type": "markdown",
   "metadata": {},
   "source": [
    "## Second part\n",
    "\n",
    "```python \n",
    "z = (np.matrix(a.getT() * a).getI() * a.getT())[1, :]\n",
    "```"
   ]
  },
  {
   "cell_type": "code",
   "execution_count": 64,
   "metadata": {},
   "outputs": [
    {
     "data": {
      "text/plain": [
       "matrix([[-0.14285714, -0.08571429, -0.02857143,  0.02857143,  0.08571429,\n",
       "          0.14285714]])"
      ]
     },
     "execution_count": 64,
     "metadata": {},
     "output_type": "execute_result"
    }
   ],
   "source": [
    "# original\n",
    "z_original = (np.matrix(a_original.getT() * a_original).getI() * a_original.getT())[1, :]\n",
    "z_original"
   ]
  },
  {
   "cell_type": "markdown",
   "metadata": {},
   "source": [
    "**Refactoring** to ndarrays:"
   ]
  },
  {
   "cell_type": "code",
   "execution_count": 65,
   "metadata": {},
   "outputs": [
    {
     "data": {
      "text/plain": [
       "array([[ 6, 15],\n",
       "       [15, 55]])"
      ]
     },
     "execution_count": 65,
     "metadata": {},
     "output_type": "execute_result"
    }
   ],
   "source": [
    "p1 = a_new.T.dot(a_new)\n",
    "p1"
   ]
  },
  {
   "cell_type": "code",
   "execution_count": 66,
   "metadata": {},
   "outputs": [
    {
     "data": {
      "text/plain": [
       "array([[ 0.52380952, -0.14285714],\n",
       "       [-0.14285714,  0.05714286]])"
      ]
     },
     "execution_count": 66,
     "metadata": {},
     "output_type": "execute_result"
    }
   ],
   "source": [
    "from numpy.linalg import inv\n",
    "\n",
    "i = inv(p1)\n",
    "i"
   ]
  },
  {
   "cell_type": "code",
   "execution_count": 67,
   "metadata": {},
   "outputs": [
    {
     "data": {
      "text/plain": [
       "array([[1, 1, 1, 1, 1, 1],\n",
       "       [0, 1, 2, 3, 4, 5]])"
      ]
     },
     "execution_count": 67,
     "metadata": {},
     "output_type": "execute_result"
    }
   ],
   "source": [
    "t = a_new.T\n",
    "t"
   ]
  },
  {
   "cell_type": "code",
   "execution_count": 68,
   "metadata": {},
   "outputs": [
    {
     "data": {
      "text/plain": [
       "array([[ 0.52380952,  0.38095238,  0.23809524,  0.0952381 , -0.04761905,\n",
       "        -0.19047619],\n",
       "       [-0.14285714, -0.08571429, -0.02857143,  0.02857143,  0.08571429,\n",
       "         0.14285714]])"
      ]
     },
     "execution_count": 68,
     "metadata": {},
     "output_type": "execute_result"
    }
   ],
   "source": [
    "z = i.dot(t)\n",
    "z"
   ]
  },
  {
   "cell_type": "code",
   "execution_count": 69,
   "metadata": {},
   "outputs": [
    {
     "data": {
      "text/plain": [
       "array([-0.14285714, -0.08571429, -0.02857143,  0.02857143,  0.08571429,\n",
       "        0.14285714])"
      ]
     },
     "execution_count": 69,
     "metadata": {},
     "output_type": "execute_result"
    }
   ],
   "source": [
    "z[1, :]"
   ]
  },
  {
   "cell_type": "markdown",
   "metadata": {},
   "source": [
    "## Third part\n",
    "\n",
    "```python\n",
    "loc_weights = (np.array(abs(z) / abs(z).sum())).tolist()[0]\n",
    "```"
   ]
  },
  {
   "cell_type": "code",
   "execution_count": 70,
   "metadata": {},
   "outputs": [
    {
     "data": {
      "text/plain": [
       "[0.2777777777777778,\n",
       " 0.16666666666666669,\n",
       " 0.05555555555555555,\n",
       " 0.055555555555555566,\n",
       " 0.16666666666666669,\n",
       " 0.2777777777777778]"
      ]
     },
     "execution_count": 70,
     "metadata": {},
     "output_type": "execute_result"
    }
   ],
   "source": [
    "# original\n",
    "loc_weights_original = (np.array(abs(z_original) / abs(z_original).sum())).tolist()[0]\n",
    "loc_weights_original"
   ]
  },
  {
   "cell_type": "code",
   "execution_count": 71,
   "metadata": {},
   "outputs": [
    {
     "data": {
      "text/plain": [
       "array([-0.14285714, -0.08571429, -0.02857143,  0.02857143,  0.08571429,\n",
       "        0.14285714])"
      ]
     },
     "execution_count": 71,
     "metadata": {},
     "output_type": "execute_result"
    }
   ],
   "source": [
    "z = z[1, :]\n",
    "z"
   ]
  },
  {
   "cell_type": "code",
   "execution_count": 72,
   "metadata": {},
   "outputs": [
    {
     "data": {
      "text/plain": [
       "array([0.27777778, 0.16666667, 0.05555556, 0.05555556, 0.16666667,\n",
       "       0.27777778])"
      ]
     },
     "execution_count": 72,
     "metadata": {},
     "output_type": "execute_result"
    }
   ],
   "source": [
    "loc_weights = np.array(abs(z) / abs(z).sum())\n",
    "loc_weights"
   ]
  },
  {
   "cell_type": "code",
   "execution_count": 73,
   "metadata": {},
   "outputs": [
    {
     "data": {
      "text/plain": [
       "array([0.14285714, 0.08571429, 0.02857143, 0.02857143, 0.08571429,\n",
       "       0.14285714])"
      ]
     },
     "execution_count": 73,
     "metadata": {},
     "output_type": "execute_result"
    }
   ],
   "source": [
    "# second approach:\n",
    "abz = abs(z)\n",
    "abz"
   ]
  },
  {
   "cell_type": "code",
   "execution_count": 74,
   "metadata": {},
   "outputs": [
    {
     "data": {
      "text/plain": [
       "array([0.27777778, 0.16666667, 0.05555556, 0.05555556, 0.16666667,\n",
       "       0.27777778])"
      ]
     },
     "execution_count": 74,
     "metadata": {},
     "output_type": "execute_result"
    }
   ],
   "source": [
    "abz / abz.sum()"
   ]
  },
  {
   "cell_type": "code",
   "execution_count": 75,
   "metadata": {},
   "outputs": [
    {
     "data": {
      "text/plain": [
       "array([0.27777778, 0.16666667, 0.05555556, 0.05555556, 0.16666667,\n",
       "       0.27777778])"
      ]
     },
     "execution_count": 75,
     "metadata": {},
     "output_type": "execute_result"
    }
   ],
   "source": [
    "loc_weights = abz / abz.sum()\n",
    "loc_weights"
   ]
  },
  {
   "cell_type": "markdown",
   "metadata": {},
   "source": [
    "## forth part\n",
    "\n",
    "```python\n",
    "return pd.Series(\n",
    "        {\"loc_slope\": sum([loc_weights[i] * data.iloc[i][loc_sales_column] for i in np.arange(num_periods)])}\n",
    "    )\n",
    "```"
   ]
  },
  {
   "cell_type": "code",
   "execution_count": 76,
   "metadata": {},
   "outputs": [
    {
     "data": {
      "text/plain": [
       "0.8861111111111112"
      ]
     },
     "execution_count": 76,
     "metadata": {},
     "output_type": "execute_result"
    }
   ],
   "source": [
    "# directly in vectorized operations\n",
    "loc_sales_column = \"loc_salesunits_own\"\n",
    "sum(loc_weights * temp_df[loc_sales_column])"
   ]
  },
  {
   "cell_type": "markdown",
   "metadata": {},
   "source": [
    "# Putting together\n"
   ]
  },
  {
   "cell_type": "code",
   "execution_count": 77,
   "metadata": {},
   "outputs": [],
   "source": [
    "# original\n",
    "def get_loc_slope(data: pd.DataFrame, loc_sales_column: str) -> pd.Series:\n",
    "    num_periods = int(data.shape[0])\n",
    "    a = np.matrix([[1, x] for x in list(np.arange(num_periods))])\n",
    "    z = (np.matrix(a.getT() * a).getI() * a.getT())[1, :]\n",
    "    loc_weights = (np.array(abs(z) / abs(z).sum())).tolist()[0]\n",
    "\n",
    "    return pd.Series(\n",
    "        {\"loc_slope\": sum([loc_weights[i] * data.iloc[i][loc_sales_column] for i in np.arange(num_periods)])}\n",
    "    )\n",
    "\n",
    "\n",
    "# new\n",
    "def get_loc_slope_new(data: pd.DataFrame, loc_sales_column: str) -> pd.Series:\n",
    "    num_periods = int(data.shape[0])\n",
    "    a = np.vstack(((np.ones(num_periods, dtype=int)), np.arange(num_periods))).T\n",
    "    z = inv(a.T.dot(a)).dot(a.T)[1, :]\n",
    "    abz = abs(z)\n",
    "    loc_weights = abz / abz.sum()\n",
    "\n",
    "    return pd.Series({\"loc_slope\": sum(loc_weights * data[loc_sales_column])})"
   ]
  },
  {
   "cell_type": "code",
   "execution_count": 78,
   "metadata": {},
   "outputs": [
    {
     "data": {
      "text/plain": [
       "loc_slope    0.886111\n",
       "dtype: float64"
      ]
     },
     "execution_count": 78,
     "metadata": {},
     "output_type": "execute_result"
    }
   ],
   "source": [
    "get_loc_slope(temp_df, \"loc_salesunits_own\")"
   ]
  },
  {
   "cell_type": "code",
   "execution_count": 79,
   "metadata": {},
   "outputs": [
    {
     "data": {
      "text/plain": [
       "loc_slope    0.886111\n",
       "dtype: float64"
      ]
     },
     "execution_count": 79,
     "metadata": {},
     "output_type": "execute_result"
    }
   ],
   "source": [
    "get_loc_slope_new(temp_df, \"loc_salesunits_own\")"
   ]
  },
  {
   "cell_type": "markdown",
   "metadata": {},
   "source": [
    "### Performance eval"
   ]
  },
  {
   "cell_type": "code",
   "execution_count": 80,
   "metadata": {},
   "outputs": [],
   "source": [
    "n = 100"
   ]
  },
  {
   "cell_type": "code",
   "execution_count": 81,
   "metadata": {},
   "outputs": [
    {
     "name": "stdout",
     "output_type": "stream",
     "text": [
      "144 µs ± 8.21 µs per loop (mean ± std. dev. of 100 runs, 100 loops each)\n"
     ]
    }
   ],
   "source": [
    "%%timeit -n 100 -r 100\n",
    "get_loc_slope(temp_df, \"loc_salesunits_own\")"
   ]
  },
  {
   "cell_type": "code",
   "execution_count": 82,
   "metadata": {},
   "outputs": [
    {
     "name": "stdout",
     "output_type": "stream",
     "text": [
      "64.2 µs ± 3.06 µs per loop (mean ± std. dev. of 100 runs, 100 loops each)\n"
     ]
    }
   ],
   "source": [
    "%%timeit  -n 100 -r 100\n",
    "get_loc_slope_new(temp_df, \"loc_salesunits_own\")"
   ]
  }
 ],
 "metadata": {
  "kernelspec": {
   "display_name": "Python 3",
   "language": "python",
   "name": "python3"
  },
  "language_info": {
   "codemirror_mode": {
    "name": "ipython",
    "version": 3
   },
   "file_extension": ".py",
   "mimetype": "text/x-python",
   "name": "python",
   "nbconvert_exporter": "python",
   "pygments_lexer": "ipython3",
   "version": "3.12.2"
  }
 },
 "nbformat": 4,
 "nbformat_minor": 4
}
