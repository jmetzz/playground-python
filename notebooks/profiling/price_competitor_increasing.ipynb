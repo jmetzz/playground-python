{
 "cells": [
  {
   "cell_type": "code",
   "execution_count": 1,
   "metadata": {},
   "outputs": [],
   "source": [
    "from io import StringIO\n",
    "\n",
    "import numpy as np\n",
    "import pandas as pd\n",
    "from pandas.testing import assert_frame_equal\n",
    "\n",
    "%load_ext autoreload\n",
    "%autoreload 2"
   ]
  },
  {
   "cell_type": "code",
   "execution_count": 2,
   "metadata": {},
   "outputs": [],
   "source": [
    "# # Setup path to import the ce python modules\n",
    "# import os\n",
    "# import sys\n",
    "# from pathlib import PurePath\n",
    "\n",
    "# # add custom python modules root to the path variable,\n",
    "# root_path = PurePath(os.getcwd()).parents[0]\n",
    "# src_path = root_path.joinpath('src')\n",
    "\n",
    "# if str(src_path) not in set(sys.path):\n",
    "#     sys.path.insert(0, str(src_path))\n",
    "# # sys.path"
   ]
  },
  {
   "cell_type": "markdown",
   "metadata": {},
   "source": [
    "# Logic breakdown\n"
   ]
  },
  {
   "cell_type": "code",
   "execution_count": 3,
   "metadata": {},
   "outputs": [],
   "source": [
    "# original function\n",
    "def price_competitor_increasing(data: pd.DataFrame) -> pd.Series:\n",
    "    condition = all(\n",
    "        [\n",
    "            (data.iloc[-i][\"price_competitor\"] >= (1 - 0.1) * data.iloc[-i - 1][\"price_competitor\"])\n",
    "            for i in range(1, data.shape[0])\n",
    "        ]\n",
    "    )\n",
    "\n",
    "    return pd.Series({\"price_competitor_historic_increasing\": np.where(condition, 1, 0)})"
   ]
  },
  {
   "cell_type": "code",
   "execution_count": 4,
   "metadata": {},
   "outputs": [
    {
     "data": {
      "text/html": [
       "<div>\n",
       "<style scoped>\n",
       "    .dataframe tbody tr th:only-of-type {\n",
       "        vertical-align: middle;\n",
       "    }\n",
       "\n",
       "    .dataframe tbody tr th {\n",
       "        vertical-align: top;\n",
       "    }\n",
       "\n",
       "    .dataframe thead th {\n",
       "        text-align: right;\n",
       "    }\n",
       "</style>\n",
       "<table border=\"1\" class=\"dataframe\">\n",
       "  <thead>\n",
       "    <tr style=\"text-align: right;\">\n",
       "      <th></th>\n",
       "      <th>item_id</th>\n",
       "      <th>competitor_item_id</th>\n",
       "      <th>period_seq</th>\n",
       "      <th>price_competitor</th>\n",
       "    </tr>\n",
       "  </thead>\n",
       "  <tbody>\n",
       "    <tr>\n",
       "      <th>0</th>\n",
       "      <td>1</td>\n",
       "      <td>2</td>\n",
       "      <td>1000</td>\n",
       "      <td>100</td>\n",
       "    </tr>\n",
       "    <tr>\n",
       "      <th>1</th>\n",
       "      <td>1</td>\n",
       "      <td>2</td>\n",
       "      <td>1001</td>\n",
       "      <td>150</td>\n",
       "    </tr>\n",
       "    <tr>\n",
       "      <th>2</th>\n",
       "      <td>1</td>\n",
       "      <td>2</td>\n",
       "      <td>1002</td>\n",
       "      <td>200</td>\n",
       "    </tr>\n",
       "    <tr>\n",
       "      <th>3</th>\n",
       "      <td>1</td>\n",
       "      <td>2</td>\n",
       "      <td>1003</td>\n",
       "      <td>250</td>\n",
       "    </tr>\n",
       "  </tbody>\n",
       "</table>\n",
       "</div>"
      ],
      "text/plain": [
       "   item_id  competitor_item_id  period_seq  price_competitor\n",
       "0        1                   2        1000               100\n",
       "1        1                   2        1001               150\n",
       "2        1                   2        1002               200\n",
       "3        1                   2        1003               250"
      ]
     },
     "execution_count": 4,
     "metadata": {},
     "output_type": "execute_result"
    }
   ],
   "source": [
    "input_str = \"\"\"item_id,competitor_item_id,period_seq,price_competitor\n",
    "1,2,1000,100\n",
    "1,2,1001,150\n",
    "1,2,1002,200\n",
    "1,2,1003,250\n",
    "\"\"\"\n",
    "csv_df = pd.read_csv(StringIO(input_str))\n",
    "csv_df"
   ]
  },
  {
   "cell_type": "code",
   "execution_count": 5,
   "metadata": {},
   "outputs": [
    {
     "data": {
      "text/plain": [
       "[(0, -1), (-1, -2), (-2, -3), (-3, -4)]"
      ]
     },
     "execution_count": 5,
     "metadata": {},
     "output_type": "execute_result"
    }
   ],
   "source": [
    "[(-i, -i - 1) for i in list(range(0, csv_df.shape[0]))]"
   ]
  },
  {
   "cell_type": "code",
   "execution_count": 6,
   "metadata": {},
   "outputs": [
    {
     "data": {
      "text/plain": [
       "[(4, 3), (3, 2), (2, 1), (1, 0)]"
      ]
     },
     "execution_count": 6,
     "metadata": {},
     "output_type": "execute_result"
    }
   ],
   "source": [
    "n = csv_df.shape[0]\n",
    "[(n + (-i), n + (-i - 1)) for i in list(range(0, n))]"
   ]
  },
  {
   "cell_type": "code",
   "execution_count": 7,
   "metadata": {},
   "outputs": [],
   "source": [
    "price_competitor = [100, 150, 200, 250]"
   ]
  },
  {
   "cell_type": "code",
   "execution_count": 8,
   "metadata": {},
   "outputs": [],
   "source": [
    "n = len(price_competitor)"
   ]
  },
  {
   "cell_type": "code",
   "execution_count": 9,
   "metadata": {},
   "outputs": [
    {
     "data": {
      "text/plain": [
       "[0, 1, 2, 3]"
      ]
     },
     "execution_count": 9,
     "metadata": {},
     "output_type": "execute_result"
    }
   ],
   "source": [
    "list(range(0, n))"
   ]
  },
  {
   "cell_type": "code",
   "execution_count": 10,
   "metadata": {},
   "outputs": [
    {
     "data": {
      "text/plain": [
       "[(0, -1), (-1, -2), (-2, -3), (-3, -4)]"
      ]
     },
     "execution_count": 10,
     "metadata": {},
     "output_type": "execute_result"
    }
   ],
   "source": [
    "# the loop in the function goes from 0 to n\n",
    "# comparing the elements [-i, -i - 1]\n",
    "[(-i, -i - 1) for i in list(range(0, n))]"
   ]
  },
  {
   "cell_type": "code",
   "execution_count": 11,
   "metadata": {},
   "outputs": [
    {
     "data": {
      "text/plain": [
       "[(100, 250), (250, 200), (200, 150), (150, 100)]"
      ]
     },
     "execution_count": 11,
     "metadata": {},
     "output_type": "execute_result"
    }
   ],
   "source": [
    "[(price_competitor[-i], price_competitor[-i - 1]) for i in list(range(0, n))]"
   ]
  },
  {
   "cell_type": "markdown",
   "metadata": {},
   "source": [
    "which means:\n",
    "\n",
    "```python \n",
    "100 >= 0.9*250       -- [0, -1],  ie, [0, 3]\n",
    "250 >= 0.9*200       -- [-1, -2], ie, [3, 2]\n",
    "200 >= 0.9*150       -- [-2, -3], ie, [2, 1]\n",
    "150 >= 0.9*100       -- [-3, -4], ie, [1, 0]\n",
    "```\n",
    "\n",
    "The comparison of the elements `[0, 3]` is wrong. \n",
    "\n",
    "It should be comparing only the following elements:\n",
    "\n",
    "```\n",
    "[(0, 1), (1, 2), (2, 3)]\n",
    "```\n",
    "\n",
    "\n",
    "```python \n",
    "100 <= 0.9*150       -- [0, 1]\n",
    "150 <= 0.9*200       -- [1, 2]\n",
    "200 <= 0.9*250       -- [2, 3]\n",
    "```\n"
   ]
  },
  {
   "cell_type": "markdown",
   "metadata": {},
   "source": [
    "\n",
    "\n"
   ]
  },
  {
   "cell_type": "markdown",
   "metadata": {},
   "source": [
    "### The modified version"
   ]
  },
  {
   "cell_type": "code",
   "execution_count": 12,
   "metadata": {},
   "outputs": [],
   "source": [
    "temp_df = csv_df.copy()"
   ]
  },
  {
   "cell_type": "code",
   "execution_count": 13,
   "metadata": {},
   "outputs": [
    {
     "data": {
      "text/plain": [
       "0    100\n",
       "1    150\n",
       "2    200\n",
       "Name: price_competitor, dtype: int64"
      ]
     },
     "execution_count": 13,
     "metadata": {},
     "output_type": "execute_result"
    }
   ],
   "source": [
    "a = temp_df[\"price_competitor\"][:-1]\n",
    "a"
   ]
  },
  {
   "cell_type": "code",
   "execution_count": 14,
   "metadata": {},
   "outputs": [
    {
     "data": {
      "text/plain": [
       "0    150.0\n",
       "1    200.0\n",
       "2    250.0\n",
       "Name: price_competitor, dtype: float64"
      ]
     },
     "execution_count": 14,
     "metadata": {},
     "output_type": "execute_result"
    }
   ],
   "source": [
    "b = temp_df[\"price_competitor\"].shift(-1)[:-1]\n",
    "b"
   ]
  },
  {
   "cell_type": "code",
   "execution_count": 15,
   "metadata": {},
   "outputs": [
    {
     "data": {
      "text/plain": [
       "0    True\n",
       "1    True\n",
       "2    True\n",
       "Name: price_competitor, dtype: bool"
      ]
     },
     "execution_count": 15,
     "metadata": {},
     "output_type": "execute_result"
    }
   ],
   "source": [
    "cond = b.ge(a * 0.9)\n",
    "cond"
   ]
  },
  {
   "cell_type": "code",
   "execution_count": 16,
   "metadata": {},
   "outputs": [
    {
     "data": {
      "text/plain": [
       "price_competitor_historic_increasing    [1, 1, 1]\n",
       "dtype: object"
      ]
     },
     "execution_count": 16,
     "metadata": {},
     "output_type": "execute_result"
    }
   ],
   "source": [
    "outcome = pd.Series({\"price_competitor_historic_increasing\": np.where(cond, 1, 0)})\n",
    "outcome"
   ]
  },
  {
   "cell_type": "code",
   "execution_count": 17,
   "metadata": {},
   "outputs": [],
   "source": [
    "def price_competitor_increasing_new(data: pd.DataFrame, off_set: float = 0.9) -> pd.Series:\n",
    "    if data.shape[0] < 2:\n",
    "        condition = False\n",
    "    else:\n",
    "        a = data[\"price_competitor\"][:-1]\n",
    "        b = data[\"price_competitor\"].shift(-1)[:-1]\n",
    "        condition = b.ge(off_set * a).all()\n",
    "    return pd.Series({\"price_competitor_historic_increasing\": np.where(condition, 1, 0)})"
   ]
  },
  {
   "cell_type": "code",
   "execution_count": 18,
   "metadata": {},
   "outputs": [
    {
     "data": {
      "text/plain": [
       "price_competitor_historic_increasing    1\n",
       "dtype: object"
      ]
     },
     "execution_count": 18,
     "metadata": {},
     "output_type": "execute_result"
    }
   ],
   "source": [
    "# check the result of the modified function\n",
    "price_competitor_increasing_new(temp_df)"
   ]
  },
  {
   "cell_type": "code",
   "execution_count": 19,
   "metadata": {},
   "outputs": [
    {
     "data": {
      "text/plain": [
       "price_competitor_historic_increasing    1\n",
       "dtype: object"
      ]
     },
     "execution_count": 19,
     "metadata": {},
     "output_type": "execute_result"
    }
   ],
   "source": [
    "# original function result\n",
    "price_competitor_increasing(temp_df)"
   ]
  },
  {
   "cell_type": "markdown",
   "metadata": {},
   "source": [
    "# Performance evaluation\n",
    "\n"
   ]
  },
  {
   "cell_type": "code",
   "execution_count": 20,
   "metadata": {},
   "outputs": [
    {
     "ename": "FileNotFoundError",
     "evalue": "[Errno 2] No such file or directory: 'PTV_FLAT-DE-2652'",
     "output_type": "error",
     "traceback": [
      "\u001b[0;31m---------------------------------------------------------------------------\u001b[0m",
      "\u001b[0;31mFileNotFoundError\u001b[0m                         Traceback (most recent call last)",
      "Cell \u001b[0;32mIn[20], line 1\u001b[0m\n\u001b[0;32m----> 1\u001b[0m data \u001b[38;5;241m=\u001b[39m \u001b[43mpd\u001b[49m\u001b[38;5;241;43m.\u001b[39;49m\u001b[43mread_pickle\u001b[49m\u001b[43m(\u001b[49m\u001b[38;5;124;43m\"\u001b[39;49m\u001b[38;5;124;43mPTV_FLAT-DE-2652\u001b[39;49m\u001b[38;5;124;43m\"\u001b[39;49m\u001b[43m)\u001b[49m\n\u001b[1;32m      2\u001b[0m \u001b[38;5;66;03m# data = pd.read_pickle(\"WASHINGMACHINES-DE-2650\")\u001b[39;00m\n\u001b[1;32m      3\u001b[0m data\u001b[38;5;241m.\u001b[39mshape\n",
      "File \u001b[0;32m~/workspace/sandbox-python/.venv/lib/python3.12/site-packages/pandas/io/pickle.py:185\u001b[0m, in \u001b[0;36mread_pickle\u001b[0;34m(filepath_or_buffer, compression, storage_options)\u001b[0m\n\u001b[1;32m    123\u001b[0m \u001b[38;5;250m\u001b[39m\u001b[38;5;124;03m\"\"\"\u001b[39;00m\n\u001b[1;32m    124\u001b[0m \u001b[38;5;124;03mLoad pickled pandas object (or any object) from file.\u001b[39;00m\n\u001b[1;32m    125\u001b[0m \n\u001b[0;32m   (...)\u001b[0m\n\u001b[1;32m    182\u001b[0m \u001b[38;5;124;03m4    4    9\u001b[39;00m\n\u001b[1;32m    183\u001b[0m \u001b[38;5;124;03m\"\"\"\u001b[39;00m\n\u001b[1;32m    184\u001b[0m excs_to_catch \u001b[38;5;241m=\u001b[39m (\u001b[38;5;167;01mAttributeError\u001b[39;00m, \u001b[38;5;167;01mImportError\u001b[39;00m, \u001b[38;5;167;01mModuleNotFoundError\u001b[39;00m, \u001b[38;5;167;01mTypeError\u001b[39;00m)\n\u001b[0;32m--> 185\u001b[0m \u001b[38;5;28;01mwith\u001b[39;00m \u001b[43mget_handle\u001b[49m\u001b[43m(\u001b[49m\n\u001b[1;32m    186\u001b[0m \u001b[43m    \u001b[49m\u001b[43mfilepath_or_buffer\u001b[49m\u001b[43m,\u001b[49m\n\u001b[1;32m    187\u001b[0m \u001b[43m    \u001b[49m\u001b[38;5;124;43m\"\u001b[39;49m\u001b[38;5;124;43mrb\u001b[39;49m\u001b[38;5;124;43m\"\u001b[39;49m\u001b[43m,\u001b[49m\n\u001b[1;32m    188\u001b[0m \u001b[43m    \u001b[49m\u001b[43mcompression\u001b[49m\u001b[38;5;241;43m=\u001b[39;49m\u001b[43mcompression\u001b[49m\u001b[43m,\u001b[49m\n\u001b[1;32m    189\u001b[0m \u001b[43m    \u001b[49m\u001b[43mis_text\u001b[49m\u001b[38;5;241;43m=\u001b[39;49m\u001b[38;5;28;43;01mFalse\u001b[39;49;00m\u001b[43m,\u001b[49m\n\u001b[1;32m    190\u001b[0m \u001b[43m    \u001b[49m\u001b[43mstorage_options\u001b[49m\u001b[38;5;241;43m=\u001b[39;49m\u001b[43mstorage_options\u001b[49m\u001b[43m,\u001b[49m\n\u001b[1;32m    191\u001b[0m \u001b[43m\u001b[49m\u001b[43m)\u001b[49m \u001b[38;5;28;01mas\u001b[39;00m handles:\n\u001b[1;32m    192\u001b[0m     \u001b[38;5;66;03m# 1) try standard library Pickle\u001b[39;00m\n\u001b[1;32m    193\u001b[0m     \u001b[38;5;66;03m# 2) try pickle_compat (older pandas version) to handle subclass changes\u001b[39;00m\n\u001b[1;32m    194\u001b[0m     \u001b[38;5;66;03m# 3) try pickle_compat with latin-1 encoding upon a UnicodeDecodeError\u001b[39;00m\n\u001b[1;32m    196\u001b[0m     \u001b[38;5;28;01mtry\u001b[39;00m:\n\u001b[1;32m    197\u001b[0m         \u001b[38;5;66;03m# TypeError for Cython complaints about object.__new__ vs Tick.__new__\u001b[39;00m\n\u001b[1;32m    198\u001b[0m         \u001b[38;5;28;01mtry\u001b[39;00m:\n",
      "File \u001b[0;32m~/workspace/sandbox-python/.venv/lib/python3.12/site-packages/pandas/io/common.py:882\u001b[0m, in \u001b[0;36mget_handle\u001b[0;34m(path_or_buf, mode, encoding, compression, memory_map, is_text, errors, storage_options)\u001b[0m\n\u001b[1;32m    873\u001b[0m         handle \u001b[38;5;241m=\u001b[39m \u001b[38;5;28mopen\u001b[39m(\n\u001b[1;32m    874\u001b[0m             handle,\n\u001b[1;32m    875\u001b[0m             ioargs\u001b[38;5;241m.\u001b[39mmode,\n\u001b[0;32m   (...)\u001b[0m\n\u001b[1;32m    878\u001b[0m             newline\u001b[38;5;241m=\u001b[39m\u001b[38;5;124m\"\u001b[39m\u001b[38;5;124m\"\u001b[39m,\n\u001b[1;32m    879\u001b[0m         )\n\u001b[1;32m    880\u001b[0m     \u001b[38;5;28;01melse\u001b[39;00m:\n\u001b[1;32m    881\u001b[0m         \u001b[38;5;66;03m# Binary mode\u001b[39;00m\n\u001b[0;32m--> 882\u001b[0m         handle \u001b[38;5;241m=\u001b[39m \u001b[38;5;28;43mopen\u001b[39;49m\u001b[43m(\u001b[49m\u001b[43mhandle\u001b[49m\u001b[43m,\u001b[49m\u001b[43m \u001b[49m\u001b[43mioargs\u001b[49m\u001b[38;5;241;43m.\u001b[39;49m\u001b[43mmode\u001b[49m\u001b[43m)\u001b[49m\n\u001b[1;32m    883\u001b[0m     handles\u001b[38;5;241m.\u001b[39mappend(handle)\n\u001b[1;32m    885\u001b[0m \u001b[38;5;66;03m# Convert BytesIO or file objects passed with an encoding\u001b[39;00m\n",
      "\u001b[0;31mFileNotFoundError\u001b[0m: [Errno 2] No such file or directory: 'PTV_FLAT-DE-2652'"
     ]
    }
   ],
   "source": [
    "data = pd.read_pickle(\"PTV_FLAT-DE-2652\")\n",
    "# data = pd.read_pickle(\"WASHINGMACHINES-DE-2650\")\n",
    "data.shape"
   ]
  },
  {
   "cell_type": "code",
   "execution_count": null,
   "metadata": {},
   "outputs": [],
   "source": [
    "data.head()"
   ]
  },
  {
   "cell_type": "code",
   "execution_count": null,
   "metadata": {},
   "outputs": [],
   "source": [
    "input_df = data[[\"item_id\", \"competitor_item_id\", \"period_seq\", \"price_competitor\"]]\n",
    "input_df"
   ]
  },
  {
   "cell_type": "code",
   "execution_count": null,
   "metadata": {},
   "outputs": [],
   "source": [
    "# data = create_generic_column(data, \"loc_slope_own\",\n",
    "#                              [\"item_id\", \"competitor_item_id\"],\n",
    "#                               get_loc_slope, \"loc_salesunits_own\")\n",
    "# data.head()\n",
    "\n",
    "# keep only the necessary columns\n",
    "#\n",
    "# input_df"
   ]
  },
  {
   "cell_type": "markdown",
   "metadata": {},
   "source": [
    "## Verify correctness"
   ]
  },
  {
   "cell_type": "code",
   "execution_count": null,
   "metadata": {},
   "outputs": [],
   "source": [
    "baseline_result = price_competitor_increasing(input_df)\n",
    "baseline_result"
   ]
  },
  {
   "cell_type": "code",
   "execution_count": null,
   "metadata": {},
   "outputs": [],
   "source": [
    "alternative_result = price_competitor_increasing_new(input_df)\n",
    "alternative_result"
   ]
  },
  {
   "cell_type": "code",
   "execution_count": null,
   "metadata": {},
   "outputs": [],
   "source": [
    "%%timeit -n 5 -r 5\n",
    "price_competitor_increasing_new(input_df)"
   ]
  },
  {
   "cell_type": "code",
   "execution_count": null,
   "metadata": {},
   "outputs": [],
   "source": [
    "%%timeit -n 5 -r 5\n",
    "price_competitor_increasing(input_df)"
   ]
  },
  {
   "cell_type": "markdown",
   "metadata": {},
   "source": [
    "### As used in the rule 53\n",
    "\n",
    "Let's apply all the relevant filters the same way it is applied in the rule:"
   ]
  },
  {
   "cell_type": "code",
   "execution_count": null,
   "metadata": {},
   "outputs": [],
   "source": [
    "from typing import Callable, List\n",
    "\n",
    "\n",
    "def filter_distribution_overlap(data: pd.DataFrame, period_seq: int, threshold: float) -> pd.DataFrame:\n",
    "    output_df = data[data[\"period_seq\"] == period_seq]\n",
    "    if (output_df[~output_df[\"distribution_overlap\"].isnull()]).shape[0] == 0:\n",
    "        return data\n",
    "    else:\n",
    "        output_df = output_df[(output_df[\"distribution_overlap\"] >= threshold)]\n",
    "        output_df = output_df[\n",
    "            [\"item_group_code\", \"country_code\", \"item_id\", \"competitor_item_id\", \"distribution_overlap\"]\n",
    "        ].drop_duplicates()\n",
    "        data_tmp = data.drop(columns=[\"distribution_overlap\"])\n",
    "        output_df = data_tmp.merge(\n",
    "            output_df, on=[\"item_group_code\", \"country_code\", \"item_id\", \"competitor_item_id\"], how=\"left\"\n",
    "        )\n",
    "    return output_df\n",
    "\n",
    "\n",
    "def filter_past_weeks(\n",
    "    input_df: pd.DataFrame,\n",
    "    period_seq: int,\n",
    "    nb_past_weeks: int,\n",
    "    exact_match: bool,\n",
    "    key_columns: List[str],\n",
    ") -> pd.DataFrame:\n",
    "    input_df = input_df.loc[input_df[\"period_seq\"].between(period_seq - nb_past_weeks, period_seq)].copy()\n",
    "    if exact_match:\n",
    "        input_df.loc[:, \"period_rank\"] = input_df.groupby(key_columns)[\"period_seq\"].rank()\n",
    "        item_competitor_pairs = input_df[input_df[\"period_rank\"] == (nb_past_weeks + 1)][key_columns]\n",
    "        input_df = input_df.merge(item_competitor_pairs, on=key_columns, how=\"right\")\n",
    "    return input_df\n",
    "\n",
    "\n",
    "def create_generic_rule_fact(\n",
    "    pdf: pd.DataFrame,\n",
    "    fact_name: str,\n",
    "    calc_function_for_rule_fact: Callable[[pd.DataFrame], pd.Series],\n",
    "    key_columns: List[str],\n",
    ") -> pd.DataFrame:\n",
    "    if not pdf.empty:\n",
    "        rule_fact = pdf.groupby(key_columns).apply(calc_function_for_rule_fact).reset_index()\n",
    "        if rule_fact.empty:\n",
    "            pdf[fact_name] = 0.0\n",
    "        else:\n",
    "            rule_fact.columns = key_columns + [fact_name]\n",
    "            rule_fact[fact_name] = rule_fact[fact_name].astype(int)\n",
    "            pdf = pdf.merge(rule_fact, on=key_columns)\n",
    "        return pdf\n",
    "    else:\n",
    "        return pd.DataFrame(columns=pdf.columns.to_list() + [fact_name])\n",
    "\n",
    "\n",
    "def wrapper_function(data: pd.DataFrame, fact_name: str, f):\n",
    "    # this is the `price_competitor_historic_increasing` from ce code\n",
    "    return create_generic_rule_fact(\n",
    "        data,\n",
    "        fact_name,\n",
    "        calc_function_for_rule_fact=f,\n",
    "        key_columns=[\"item_id\", \"competitor_item_id\"],\n",
    "    )"
   ]
  },
  {
   "cell_type": "code",
   "execution_count": null,
   "metadata": {},
   "outputs": [],
   "source": [
    "period_seq = 2652\n",
    "data = pd.read_pickle(\"PTV_FLAT-DE-2652\")\n",
    "data = data[data[\"brand\"] != data[\"brand_competitor\"]]\n",
    "data = filter_distribution_overlap(data=data, period_seq=period_seq, threshold=0.5)\n",
    "data = data.dropna()\n",
    "data = filter_past_weeks(data, period_seq, 4, True, [\"item_id\", \"competitor_item_id\"])\n",
    "data.shape"
   ]
  },
  {
   "cell_type": "code",
   "execution_count": null,
   "metadata": {},
   "outputs": [],
   "source": [
    "baseline_result = wrapper_function(data, \"price_competitor_historic_increasing\", price_competitor_increasing)\n",
    "baseline_result"
   ]
  },
  {
   "cell_type": "code",
   "execution_count": null,
   "metadata": {},
   "outputs": [],
   "source": [
    "alternative_result = wrapper_function(data, \"price_competitor_historic_increasing\", price_competitor_increasing)\n",
    "alternative_result"
   ]
  },
  {
   "cell_type": "code",
   "execution_count": null,
   "metadata": {},
   "outputs": [],
   "source": [
    "assert_frame_equal(baseline_result, alternative_result)"
   ]
  },
  {
   "cell_type": "code",
   "execution_count": null,
   "metadata": {},
   "outputs": [],
   "source": [
    "%%timeit -n 5 -r 5\n",
    "wrapper_function(data, \"price_competitor_historic_increasing\", price_competitor_increasing)"
   ]
  },
  {
   "cell_type": "code",
   "execution_count": null,
   "metadata": {},
   "outputs": [],
   "source": [
    "%%timeit -n 5 -r 5\n",
    "wrapper_function(data, \"price_competitor_historic_increasing\", price_competitor_increasing_new)"
   ]
  },
  {
   "cell_type": "code",
   "execution_count": null,
   "metadata": {},
   "outputs": [],
   "source": []
  }
 ],
 "metadata": {
  "kernelspec": {
   "display_name": "Python 3",
   "language": "python",
   "name": "python3"
  },
  "language_info": {
   "codemirror_mode": {
    "name": "ipython",
    "version": 3
   },
   "file_extension": ".py",
   "mimetype": "text/x-python",
   "name": "python",
   "nbconvert_exporter": "python",
   "pygments_lexer": "ipython3",
   "version": "3.12.1"
  }
 },
 "nbformat": 4,
 "nbformat_minor": 4
}
