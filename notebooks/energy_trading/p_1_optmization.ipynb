{
 "cells": [
  {
   "cell_type": "markdown",
   "metadata": {},
   "source": [
    "# Optimisation\n",
    "\n",
    "We have a 1MW, 1MWh battery. This means the battery can charge and discharge with a maximum power of 1 MW. The battery can store at most 1 MWh, i.e. after charging with full power for 1h, the battery will be full. To earn money with the battery we buy electricity on the wholesale market when it is cheap to do so and sell when it is expensive, storing the electricity in the battery in the meantime.\n",
    "\n",
    "Use the day ahead 60 min data for all questions in this part, which contains hourly wholesale electricity prices for the first 6 months of 2022.\n",
    "Assume full information, i.e. you know all the prices in advance when solving this question.\n",
    "\n",
    "\n",
    "## Question 1.1\n",
    "For every day in the data, find the profit-maximizing times to charge and discharge the battery. \n",
    "Illustrate your findings, showing for example how much revenue you would have earned, at what times of the day it is usually best to charge and when it is best to discharge, etc. \n",
    "\n",
    "\n",
    "## Question 1.2\n",
    "Suppose we now have a 1 MW, 2 MWh battery. This means the battery can charge for 2 hours with full power when completely empty and discharge for 2 hours with full power when completely full. \n",
    "It can also charge and discharge to half full by charging/discharging with full power for 1 hour. How does your answer to question 1.1 change?\n",
    "\n",
    "> not implemented yet."
   ]
  },
  {
   "cell_type": "code",
   "execution_count": null,
   "metadata": {},
   "outputs": [],
   "source": [
    "import sys\n",
    "import os\n",
    "from pathlib import PurePath\n",
    "from environs import Env\n",
    "import random"
   ]
  },
  {
   "cell_type": "code",
   "execution_count": null,
   "metadata": {},
   "outputs": [],
   "source": [
    "# add custom python modules root to the path variable,\n",
    "root_path = PurePath(os.getcwd()).parents[1].joinpath(\"src\")\n",
    "if str(root_path) not in sys.path:\n",
    "    sys.path.insert(0, str(root_path))\n",
    "# sys.path"
   ]
  },
  {
   "cell_type": "code",
   "execution_count": null,
   "metadata": {},
   "outputs": [],
   "source": [
    "from challenges.energy_trading.data_access import load_energy_data\n",
    "from challenges.energy_trading.trading_strategy import (\n",
    "    calculate_daily_trading_strategy,\n",
    "    max_profit_explicit_actions_pandas,\n",
    ")"
   ]
  },
  {
   "cell_type": "code",
   "execution_count": null,
   "metadata": {},
   "outputs": [],
   "source": [
    "%load_ext autoreload\n",
    "%autoreload 2\n",
    "\n",
    "myseed = 31\n",
    "random.seed(myseed)"
   ]
  },
  {
   "cell_type": "code",
   "execution_count": null,
   "metadata": {},
   "outputs": [],
   "source": [
    "env = Env()\n",
    "env.read_env(\".env\")"
   ]
  },
  {
   "cell_type": "code",
   "execution_count": null,
   "metadata": {},
   "outputs": [],
   "source": [
    "energy_prices = load_energy_data(env(\"ENERGY_TRADING_DATA\"), \"_60min.csv\")\n",
    "results = calculate_daily_trading_strategy(energy_prices)\n",
    "results[\"2022-01-01\"]"
   ]
  },
  {
   "cell_type": "code",
   "execution_count": null,
   "metadata": {},
   "outputs": [],
   "source": [
    "results = max_profit_explicit_actions_pandas(energy_prices, False)\n",
    "results"
   ]
  },
  {
   "cell_type": "code",
   "execution_count": null,
   "metadata": {},
   "outputs": [],
   "source": [
    "results = max_profit_explicit_actions_pandas(energy_prices)\n",
    "results"
   ]
  },
  {
   "cell_type": "code",
   "execution_count": null,
   "metadata": {},
   "outputs": [],
   "source": []
  }
 ],
 "metadata": {
  "kernelspec": {
   "display_name": ".venv",
   "language": "python",
   "name": "python3"
  },
  "language_info": {
   "codemirror_mode": {
    "name": "ipython",
    "version": 3
   },
   "file_extension": ".py",
   "mimetype": "text/x-python",
   "name": "python",
   "nbconvert_exporter": "python",
   "pygments_lexer": "ipython3",
   "version": "3.12.3"
  }
 },
 "nbformat": 4,
 "nbformat_minor": 2
}
