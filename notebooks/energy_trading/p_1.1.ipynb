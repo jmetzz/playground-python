{
 "cells": [
  {
   "cell_type": "code",
   "execution_count": 11,
   "metadata": {},
   "outputs": [],
   "source": [
    "import sys\n",
    "import os\n",
    "from pathlib import PurePath\n",
    "\n",
    "import pandas as pd\n",
    "import numpy as np\n",
    "from environs import Env\n",
    "import random\n",
    "from io import StringIO"
   ]
  },
  {
   "cell_type": "code",
   "execution_count": 12,
   "metadata": {},
   "outputs": [
    {
     "data": {
      "text/plain": [
       "'/Users/jeanmetz/workspace/playground-python/notebooks/energy_trading'"
      ]
     },
     "execution_count": 12,
     "metadata": {},
     "output_type": "execute_result"
    }
   ],
   "source": [
    "os.getcwd()"
   ]
  },
  {
   "cell_type": "code",
   "execution_count": 13,
   "metadata": {},
   "outputs": [
    {
     "data": {
      "text/plain": [
       "['/Users/jeanmetz/workspace/playground-python/src',\n",
       " '/Users/jeanmetz/workspace/playground-python/notebooks/energy_trading',\n",
       " '/opt/homebrew/Cellar/python@3.12/3.12.3/Frameworks/Python.framework/Versions/3.12/lib/python312.zip',\n",
       " '/opt/homebrew/Cellar/python@3.12/3.12.3/Frameworks/Python.framework/Versions/3.12/lib/python3.12',\n",
       " '/opt/homebrew/Cellar/python@3.12/3.12.3/Frameworks/Python.framework/Versions/3.12/lib/python3.12/lib-dynload',\n",
       " '',\n",
       " '/Users/jeanmetz/workspace/playground-python/.venv/lib/python3.12/site-packages']"
      ]
     },
     "execution_count": 13,
     "metadata": {},
     "output_type": "execute_result"
    }
   ],
   "source": [
    "# add custom python modules root to the path variable,\n",
    "root_path = PurePath(os.getcwd()).parents[1].joinpath(\"src\")\n",
    "if str(root_path) not in sys.path:\n",
    "    sys.path.insert(0, str(root_path))\n",
    "sys.path"
   ]
  },
  {
   "cell_type": "markdown",
   "metadata": {},
   "source": []
  },
  {
   "cell_type": "code",
   "execution_count": 14,
   "metadata": {},
   "outputs": [],
   "source": [
    "from challenges.energy_trading.data_access import load_energy_data\n",
    "from challenges.energy_trading.trading_strategy import (\n",
    "    calculate_daily_trading_strategy,\n",
    "    max_profit_explicit_actions_pandas,\n",
    ")"
   ]
  },
  {
   "cell_type": "code",
   "execution_count": 15,
   "metadata": {},
   "outputs": [
    {
     "name": "stdout",
     "output_type": "stream",
     "text": [
      "The autoreload extension is already loaded. To reload it, use:\n",
      "  %reload_ext autoreload\n"
     ]
    }
   ],
   "source": [
    "%load_ext autoreload\n",
    "%autoreload 2\n",
    "\n",
    "myseed = 31\n",
    "np.random.seed(myseed)\n",
    "random.seed(myseed)"
   ]
  },
  {
   "cell_type": "code",
   "execution_count": 16,
   "metadata": {},
   "outputs": [
    {
     "data": {
      "text/plain": [
       "True"
      ]
     },
     "execution_count": 16,
     "metadata": {},
     "output_type": "execute_result"
    }
   ],
   "source": [
    "env = Env()\n",
    "env.read_env(\".env\")"
   ]
  },
  {
   "cell_type": "code",
   "execution_count": 17,
   "metadata": {},
   "outputs": [
    {
     "data": {
      "text/plain": [
       "'~/workspace/playground-python/resources/unversioned/flexa_data/dayahead_prices_60min.csv'"
      ]
     },
     "execution_count": 17,
     "metadata": {},
     "output_type": "execute_result"
    }
   ],
   "source": [
    "env(\"ENERGY_TRADING_DATA\")"
   ]
  },
  {
   "cell_type": "code",
   "execution_count": 18,
   "metadata": {},
   "outputs": [
    {
     "name": "stderr",
     "output_type": "stream",
     "text": [
      "WARNING:root:There are non-numeric values in the Price column that have been set to NaN.\n",
      "WARNING:root:Imputing missing values with ffill.\n"
     ]
    },
    {
     "data": {
      "text/plain": [
       "{'strategy': ['skip',\n",
       "  'buy',\n",
       "  'sell and buy',\n",
       "  'sell',\n",
       "  'buy',\n",
       "  'sell and buy',\n",
       "  'sell and buy',\n",
       "  'sell and buy',\n",
       "  'sell and buy',\n",
       "  'sell and buy',\n",
       "  'sell and buy',\n",
       "  'sell and buy',\n",
       "  'sell and buy',\n",
       "  'sell and buy',\n",
       "  'sell and buy',\n",
       "  'sell and buy',\n",
       "  'sell and buy',\n",
       "  'sell',\n",
       "  'skip',\n",
       "  'skip',\n",
       "  'skip',\n",
       "  'skip',\n",
       "  'skip',\n",
       "  'skip'],\n",
       " 'profit': 116.43}"
      ]
     },
     "execution_count": 18,
     "metadata": {},
     "output_type": "execute_result"
    }
   ],
   "source": [
    "energy_prices = load_energy_data(env(\"ENERGY_TRADING_DATA\"))\n",
    "results = calculate_daily_trading_strategy(energy_prices)\n",
    "results[\"2022-01-01\"]"
   ]
  },
  {
   "cell_type": "code",
   "execution_count": 19,
   "metadata": {},
   "outputs": [
    {
     "data": {
      "text/html": [
       "<div>\n",
       "<style scoped>\n",
       "    .dataframe tbody tr th:only-of-type {\n",
       "        vertical-align: middle;\n",
       "    }\n",
       "\n",
       "    .dataframe tbody tr th {\n",
       "        vertical-align: top;\n",
       "    }\n",
       "\n",
       "    .dataframe thead th {\n",
       "        text-align: right;\n",
       "    }\n",
       "</style>\n",
       "<table border=\"1\" class=\"dataframe\">\n",
       "  <thead>\n",
       "    <tr style=\"text-align: right;\">\n",
       "      <th></th>\n",
       "      <th>DateTime</th>\n",
       "      <th>Price</th>\n",
       "      <th>Currency</th>\n",
       "      <th>start_time</th>\n",
       "      <th>end_time</th>\n",
       "      <th>Price Diff</th>\n",
       "      <th>Action</th>\n",
       "      <th>Profit</th>\n",
       "    </tr>\n",
       "  </thead>\n",
       "  <tbody>\n",
       "    <tr>\n",
       "      <th>0</th>\n",
       "      <td>01.01.2022 00:00 - 01.01.2022 01:00</td>\n",
       "      <td>50.05</td>\n",
       "      <td>EUR</td>\n",
       "      <td>2022-01-01 00:00:00</td>\n",
       "      <td>2022-01-01 01:00:00</td>\n",
       "      <td>NaN</td>\n",
       "      <td>skip</td>\n",
       "      <td>0.00</td>\n",
       "    </tr>\n",
       "    <tr>\n",
       "      <th>1</th>\n",
       "      <td>01.01.2022 01:00 - 01.01.2022 02:00</td>\n",
       "      <td>41.33</td>\n",
       "      <td>EUR</td>\n",
       "      <td>2022-01-01 01:00:00</td>\n",
       "      <td>2022-01-01 02:00:00</td>\n",
       "      <td>-8.72</td>\n",
       "      <td>buy</td>\n",
       "      <td>0.00</td>\n",
       "    </tr>\n",
       "    <tr>\n",
       "      <th>2</th>\n",
       "      <td>01.01.2022 02:00 - 01.01.2022 03:00</td>\n",
       "      <td>43.22</td>\n",
       "      <td>EUR</td>\n",
       "      <td>2022-01-01 02:00:00</td>\n",
       "      <td>2022-01-01 03:00:00</td>\n",
       "      <td>1.89</td>\n",
       "      <td>sell</td>\n",
       "      <td>1.89</td>\n",
       "    </tr>\n",
       "    <tr>\n",
       "      <th>3</th>\n",
       "      <td>01.01.2022 03:00 - 01.01.2022 04:00</td>\n",
       "      <td>45.46</td>\n",
       "      <td>EUR</td>\n",
       "      <td>2022-01-01 03:00:00</td>\n",
       "      <td>2022-01-01 04:00:00</td>\n",
       "      <td>2.24</td>\n",
       "      <td>sell</td>\n",
       "      <td>2.24</td>\n",
       "    </tr>\n",
       "    <tr>\n",
       "      <th>4</th>\n",
       "      <td>01.01.2022 04:00 - 01.01.2022 05:00</td>\n",
       "      <td>37.67</td>\n",
       "      <td>EUR</td>\n",
       "      <td>2022-01-01 04:00:00</td>\n",
       "      <td>2022-01-01 05:00:00</td>\n",
       "      <td>-7.79</td>\n",
       "      <td>buy</td>\n",
       "      <td>0.00</td>\n",
       "    </tr>\n",
       "    <tr>\n",
       "      <th>...</th>\n",
       "      <td>...</td>\n",
       "      <td>...</td>\n",
       "      <td>...</td>\n",
       "      <td>...</td>\n",
       "      <td>...</td>\n",
       "      <td>...</td>\n",
       "      <td>...</td>\n",
       "      <td>...</td>\n",
       "    </tr>\n",
       "    <tr>\n",
       "      <th>4339</th>\n",
       "      <td>30.06.2022 19:00 - 30.06.2022 20:00</td>\n",
       "      <td>479.00</td>\n",
       "      <td>EUR</td>\n",
       "      <td>2022-06-30 19:00:00</td>\n",
       "      <td>2022-06-30 20:00:00</td>\n",
       "      <td>69.59</td>\n",
       "      <td>sell</td>\n",
       "      <td>69.59</td>\n",
       "    </tr>\n",
       "    <tr>\n",
       "      <th>4340</th>\n",
       "      <td>30.06.2022 20:00 - 30.06.2022 21:00</td>\n",
       "      <td>450.00</td>\n",
       "      <td>EUR</td>\n",
       "      <td>2022-06-30 20:00:00</td>\n",
       "      <td>2022-06-30 21:00:00</td>\n",
       "      <td>-29.00</td>\n",
       "      <td>buy</td>\n",
       "      <td>0.00</td>\n",
       "    </tr>\n",
       "    <tr>\n",
       "      <th>4341</th>\n",
       "      <td>30.06.2022 21:00 - 30.06.2022 22:00</td>\n",
       "      <td>394.21</td>\n",
       "      <td>EUR</td>\n",
       "      <td>2022-06-30 21:00:00</td>\n",
       "      <td>2022-06-30 22:00:00</td>\n",
       "      <td>-55.79</td>\n",
       "      <td>buy</td>\n",
       "      <td>0.00</td>\n",
       "    </tr>\n",
       "    <tr>\n",
       "      <th>4342</th>\n",
       "      <td>30.06.2022 22:00 - 30.06.2022 23:00</td>\n",
       "      <td>355.17</td>\n",
       "      <td>EUR</td>\n",
       "      <td>2022-06-30 22:00:00</td>\n",
       "      <td>2022-06-30 23:00:00</td>\n",
       "      <td>-39.04</td>\n",
       "      <td>buy</td>\n",
       "      <td>0.00</td>\n",
       "    </tr>\n",
       "    <tr>\n",
       "      <th>4343</th>\n",
       "      <td>30.06.2022 23:00 - 01.07.2022 00:00</td>\n",
       "      <td>258.08</td>\n",
       "      <td>EUR</td>\n",
       "      <td>2022-06-30 23:00:00</td>\n",
       "      <td>2022-07-01 00:00:00</td>\n",
       "      <td>-97.09</td>\n",
       "      <td>buy</td>\n",
       "      <td>0.00</td>\n",
       "    </tr>\n",
       "  </tbody>\n",
       "</table>\n",
       "<p>4344 rows × 8 columns</p>\n",
       "</div>"
      ],
      "text/plain": [
       "                                 DateTime   Price Currency  \\\n",
       "0     01.01.2022 00:00 - 01.01.2022 01:00   50.05      EUR   \n",
       "1     01.01.2022 01:00 - 01.01.2022 02:00   41.33      EUR   \n",
       "2     01.01.2022 02:00 - 01.01.2022 03:00   43.22      EUR   \n",
       "3     01.01.2022 03:00 - 01.01.2022 04:00   45.46      EUR   \n",
       "4     01.01.2022 04:00 - 01.01.2022 05:00   37.67      EUR   \n",
       "...                                   ...     ...      ...   \n",
       "4339  30.06.2022 19:00 - 30.06.2022 20:00  479.00      EUR   \n",
       "4340  30.06.2022 20:00 - 30.06.2022 21:00  450.00      EUR   \n",
       "4341  30.06.2022 21:00 - 30.06.2022 22:00  394.21      EUR   \n",
       "4342  30.06.2022 22:00 - 30.06.2022 23:00  355.17      EUR   \n",
       "4343  30.06.2022 23:00 - 01.07.2022 00:00  258.08      EUR   \n",
       "\n",
       "              start_time            end_time  Price Diff Action  Profit  \n",
       "0    2022-01-01 00:00:00 2022-01-01 01:00:00         NaN   skip    0.00  \n",
       "1    2022-01-01 01:00:00 2022-01-01 02:00:00       -8.72    buy    0.00  \n",
       "2    2022-01-01 02:00:00 2022-01-01 03:00:00        1.89   sell    1.89  \n",
       "3    2022-01-01 03:00:00 2022-01-01 04:00:00        2.24   sell    2.24  \n",
       "4    2022-01-01 04:00:00 2022-01-01 05:00:00       -7.79    buy    0.00  \n",
       "...                  ...                 ...         ...    ...     ...  \n",
       "4339 2022-06-30 19:00:00 2022-06-30 20:00:00       69.59   sell   69.59  \n",
       "4340 2022-06-30 20:00:00 2022-06-30 21:00:00      -29.00    buy    0.00  \n",
       "4341 2022-06-30 21:00:00 2022-06-30 22:00:00      -55.79    buy    0.00  \n",
       "4342 2022-06-30 22:00:00 2022-06-30 23:00:00      -39.04    buy    0.00  \n",
       "4343 2022-06-30 23:00:00 2022-07-01 00:00:00      -97.09    buy    0.00  \n",
       "\n",
       "[4344 rows x 8 columns]"
      ]
     },
     "execution_count": 19,
     "metadata": {},
     "output_type": "execute_result"
    }
   ],
   "source": [
    "results = max_profit_explicit_actions_pandas(energy_prices, False)\n",
    "results"
   ]
  },
  {
   "cell_type": "code",
   "execution_count": 20,
   "metadata": {},
   "outputs": [
    {
     "data": {
      "text/html": [
       "<div>\n",
       "<style scoped>\n",
       "    .dataframe tbody tr th:only-of-type {\n",
       "        vertical-align: middle;\n",
       "    }\n",
       "\n",
       "    .dataframe tbody tr th {\n",
       "        vertical-align: top;\n",
       "    }\n",
       "\n",
       "    .dataframe thead th {\n",
       "        text-align: right;\n",
       "    }\n",
       "</style>\n",
       "<table border=\"1\" class=\"dataframe\">\n",
       "  <thead>\n",
       "    <tr style=\"text-align: right;\">\n",
       "      <th></th>\n",
       "      <th>Total_Profit</th>\n",
       "      <th>Actions</th>\n",
       "    </tr>\n",
       "    <tr>\n",
       "      <th>start_time</th>\n",
       "      <th></th>\n",
       "      <th></th>\n",
       "    </tr>\n",
       "  </thead>\n",
       "  <tbody>\n",
       "    <tr>\n",
       "      <th>2022-01-01</th>\n",
       "      <td>116.43</td>\n",
       "      <td>[skip, buy, sell, sell, buy, sell, sell, sell,...</td>\n",
       "    </tr>\n",
       "    <tr>\n",
       "      <th>2022-01-02</th>\n",
       "      <td>72.51</td>\n",
       "      <td>[buy, buy, buy, buy, buy, sell, sell, sell, se...</td>\n",
       "    </tr>\n",
       "    <tr>\n",
       "      <th>2022-01-03</th>\n",
       "      <td>201.37</td>\n",
       "      <td>[buy, buy, buy, buy, sell, sell, sell, sell, s...</td>\n",
       "    </tr>\n",
       "    <tr>\n",
       "      <th>2022-01-04</th>\n",
       "      <td>129.19</td>\n",
       "      <td>[sell, sell, buy, buy, buy, sell, sell, sell, ...</td>\n",
       "    </tr>\n",
       "    <tr>\n",
       "      <th>2022-01-05</th>\n",
       "      <td>138.63</td>\n",
       "      <td>[sell, buy, buy, buy, sell, sell, sell, sell, ...</td>\n",
       "    </tr>\n",
       "    <tr>\n",
       "      <th>...</th>\n",
       "      <td>...</td>\n",
       "      <td>...</td>\n",
       "    </tr>\n",
       "    <tr>\n",
       "      <th>2022-06-26</th>\n",
       "      <td>255.89</td>\n",
       "      <td>[buy, buy, buy, buy, buy, buy, buy, buy, buy, ...</td>\n",
       "    </tr>\n",
       "    <tr>\n",
       "      <th>2022-06-27</th>\n",
       "      <td>309.11</td>\n",
       "      <td>[buy, buy, buy, buy, buy, sell, sell, sell, se...</td>\n",
       "    </tr>\n",
       "    <tr>\n",
       "      <th>2022-06-28</th>\n",
       "      <td>380.20</td>\n",
       "      <td>[buy, sell, buy, sell, sell, sell, sell, sell,...</td>\n",
       "    </tr>\n",
       "    <tr>\n",
       "      <th>2022-06-29</th>\n",
       "      <td>248.45</td>\n",
       "      <td>[buy, buy, buy, buy, sell, sell, sell, sell, s...</td>\n",
       "    </tr>\n",
       "    <tr>\n",
       "      <th>2022-06-30</th>\n",
       "      <td>339.21</td>\n",
       "      <td>[sell, buy, sell, sell, buy, sell, sell, sell,...</td>\n",
       "    </tr>\n",
       "  </tbody>\n",
       "</table>\n",
       "<p>181 rows × 2 columns</p>\n",
       "</div>"
      ],
      "text/plain": [
       "            Total_Profit                                            Actions\n",
       "start_time                                                                 \n",
       "2022-01-01        116.43  [skip, buy, sell, sell, buy, sell, sell, sell,...\n",
       "2022-01-02         72.51  [buy, buy, buy, buy, buy, sell, sell, sell, se...\n",
       "2022-01-03        201.37  [buy, buy, buy, buy, sell, sell, sell, sell, s...\n",
       "2022-01-04        129.19  [sell, sell, buy, buy, buy, sell, sell, sell, ...\n",
       "2022-01-05        138.63  [sell, buy, buy, buy, sell, sell, sell, sell, ...\n",
       "...                  ...                                                ...\n",
       "2022-06-26        255.89  [buy, buy, buy, buy, buy, buy, buy, buy, buy, ...\n",
       "2022-06-27        309.11  [buy, buy, buy, buy, buy, sell, sell, sell, se...\n",
       "2022-06-28        380.20  [buy, sell, buy, sell, sell, sell, sell, sell,...\n",
       "2022-06-29        248.45  [buy, buy, buy, buy, sell, sell, sell, sell, s...\n",
       "2022-06-30        339.21  [sell, buy, sell, sell, buy, sell, sell, sell,...\n",
       "\n",
       "[181 rows x 2 columns]"
      ]
     },
     "execution_count": 20,
     "metadata": {},
     "output_type": "execute_result"
    }
   ],
   "source": [
    "results = max_profit_explicit_actions_pandas(energy_prices)\n",
    "results"
   ]
  },
  {
   "cell_type": "code",
   "execution_count": null,
   "metadata": {},
   "outputs": [],
   "source": []
  }
 ],
 "metadata": {
  "kernelspec": {
   "display_name": ".venv",
   "language": "python",
   "name": "python3"
  },
  "language_info": {
   "codemirror_mode": {
    "name": "ipython",
    "version": 3
   },
   "file_extension": ".py",
   "mimetype": "text/x-python",
   "name": "python",
   "nbconvert_exporter": "python",
   "pygments_lexer": "ipython3",
   "version": "3.12.3"
  }
 },
 "nbformat": 4,
 "nbformat_minor": 2
}
